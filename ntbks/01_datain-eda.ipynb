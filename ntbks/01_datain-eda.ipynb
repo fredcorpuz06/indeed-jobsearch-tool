{
 "cells": [
  {
   "cell_type": "code",
   "execution_count": 11,
   "metadata": {},
   "outputs": [],
   "source": [
    "from IPython.core.interactiveshell import InteractiveShell\n",
    "InteractiveShell.ast_node_interactivity = 'all'\n",
    "import pandas as pd\n",
    "import numpy as np\n",
    "import matplotlib.pyplot as plt\n",
    "import seaborn as sns\n",
    "%matplotlib inline"
   ]
  },
  {
   "cell_type": "code",
   "execution_count": null,
   "metadata": {},
   "outputs": [],
   "source": []
  },
  {
   "cell_type": "code",
   "execution_count": 5,
   "metadata": {
    "scrolled": true
   },
   "outputs": [
    {
     "name": "stdout",
     "output_type": "stream",
     "text": [
      "<class 'pandas.core.frame.DataFrame'>\n",
      "RangeIndex: 1763530 entries, 0 to 1763529\n",
      "Data columns (total 23 columns):\n",
      "date                          object\n",
      "companyId                     object\n",
      "jobId                         object\n",
      "country                       object\n",
      "stateProvince                 object\n",
      "city                          object\n",
      "avgOverallRating              float64\n",
      "numReviews                    float64\n",
      "industry                      object\n",
      "normTitle                     object\n",
      "normTitleCategory             object\n",
      "descriptionCharacterLength    int64\n",
      "descriptionWordCount          int64\n",
      "experienceRequired            float64\n",
      "estimatedSalary               int64\n",
      "salaryCurrency                object\n",
      "jobLanguage                   object\n",
      "supervisingJob                float64\n",
      "licenseRequiredJob            float64\n",
      "educationRequirement          object\n",
      "jobAgeDays                    int64\n",
      "clicks                        int64\n",
      "localClicks                   int64\n",
      "dtypes: float64(5), int64(6), object(12)\n",
      "memory usage: 309.5+ MB\n"
     ]
    }
   ],
   "source": [
    "df = pd.read_csv('../data/datafest2018-mini.csv', encoding=\"ISO-8859-1\")\n",
    "df.info()"
   ]
  },
  {
   "attachments": {},
   "cell_type": "markdown",
   "metadata": {},
   "source": [
    "\n",
    "* date\tUnixtime date when events occured.\n",
    "* companyId\t-\n",
    "* jobId\t-\n",
    "* country\tCountry of job-posting.\n",
    "* stateProvince\tName of the state or province of the job posting.\n",
    "* city\tName of job posting city.\n",
    "* avgOverallCompanyRating\tAverage rating of the company (1-5 stars), with 0s for non-rated companies.\n",
    "* numOfRatings\tTotal number of reviews the company had.\n",
    "* industry\tIndustry associated with the company.\n",
    "* normTitle\tThe normalized / canonical job title.\n",
    "* normTitleCategory\tThe category (similar to occupational category) of the norm title.\n",
    "* descriptionCharacterLength\tNumber of characters in job description.\n",
    "* descriptionWordCount\tNumber of words in job description.\n",
    "* experienceRequired\tMinimum experience required for the job in years.\n",
    "* estimatedSalary\tEstimated annual salary (0 when estimate not available).\n",
    "* salaryCurrency\tSalary currency.\n",
    "* jobLanguage\tJob language.\n",
    "* supervisingJob\tWhether this job is classified as a supervising job.\n",
    "* licenseRequiredJob\tWhether this job is classified as requiring a license.\n",
    "* educationRequirement\tThe job's education requirement. Values (\"None\", \"High School\", \"Higher Education\").\n",
    "* jobAgeDays\tAge of job in days, based on job create date and on central timezone. Resets if job is 'refreshed'.\n",
    "* clicks\tThe total number of clicks on the job on the date.\n",
    "* localClicks\tThe total number of clicks on the job from a local user (same city and country) on the date.\n"
   ]
  },
  {
   "cell_type": "code",
   "execution_count": 9,
   "metadata": {
    "scrolled": true
   },
   "outputs": [
    {
     "data": {
      "text/plain": [
       "date                           0.000000\n",
       "companyId                      0.000000\n",
       "jobId                          0.000000\n",
       "country                        0.000000\n",
       "stateProvince                  0.000000\n",
       "city                           1.983011\n",
       "avgOverallRating               0.001815\n",
       "numReviews                    53.129916\n",
       "industry                      89.687218\n",
       "normTitle                      9.047252\n",
       "normTitleCategory              9.047252\n",
       "descriptionCharacterLength     0.000000\n",
       "descriptionWordCount           0.000000\n",
       "experienceRequired            62.372684\n",
       "estimatedSalary                0.000000\n",
       "salaryCurrency                83.030513\n",
       "jobLanguage                    0.000000\n",
       "supervisingJob                12.281220\n",
       "licenseRequiredJob            12.281220\n",
       "educationRequirement          12.281220\n",
       "jobAgeDays                     0.000000\n",
       "clicks                         0.000000\n",
       "localClicks                    0.000000\n",
       "dtype: float64"
      ]
     },
     "execution_count": 9,
     "metadata": {},
     "output_type": "execute_result"
    }
   ],
   "source": [
    "## Missing\n",
    "missing = df.isnull().sum()\n",
    "missing/len(df) * 100"
   ]
  },
  {
   "cell_type": "markdown",
   "metadata": {},
   "source": [
    "## Location"
   ]
  },
  {
   "cell_type": "code",
   "execution_count": 42,
   "metadata": {},
   "outputs": [
    {
     "data": {
      "text/plain": [
       "US    0.803050\n",
       "DE    0.114858\n",
       "CA    0.082093\n",
       "Name: country, dtype: float64"
      ]
     },
     "execution_count": 42,
     "metadata": {},
     "output_type": "execute_result"
    },
    {
     "data": {
      "text/plain": [
       "<matplotlib.axes._subplots.AxesSubplot at 0x7fdcf8d722e8>"
      ]
     },
     "execution_count": 42,
     "metadata": {},
     "output_type": "execute_result"
    },
    {
     "data": {
      "image/png": "[encoded data removed]",
      "text/plain": [
       "<Figure size 432x288 with 1 Axes>"
      ]
     },
     "metadata": {},
     "output_type": "display_data"
    }
   ],
   "source": [
    "## country\tCountry of job-posting.\n",
    "df.country.value_counts(dropna=False, normalize=True)\n",
    "sns.countplot(df.country)"
   ]
  },
  {
   "cell_type": "code",
   "execution_count": 47,
   "metadata": {},
   "outputs": [
    {
     "name": "stdout",
     "output_type": "stream",
     "text": [
      "87\n"
     ]
    },
    {
     "data": {
      "text/plain": [
       "CA    161185\n",
       "TX    112511\n",
       "FL     86730\n",
       "NY     84224\n",
       "ON     65843\n",
       "PA     60860\n",
       "IL     59368\n",
       "OH     53230\n",
       "NC     46849\n",
       "GA     46331\n",
       "VA     44050\n",
       "MA     43516\n",
       "MI     42694\n",
       "NJ     41311\n",
       "NW     39377\n",
       "BY     36991\n",
       "WA     33346\n",
       "MD     30807\n",
       "CO     30135\n",
       "MN     29488\n",
       "AZ     28685\n",
       "BW     28100\n",
       "IN     28006\n",
       "WI     27702\n",
       "TN     27510\n",
       "MO     26456\n",
       "QC     25173\n",
       "BC     24252\n",
       "SC     21367\n",
       "CT     17716\n",
       "       ...  \n",
       "SH      5258\n",
       "RI      5072\n",
       "DE      4548\n",
       "TH      4310\n",
       "ST      3793\n",
       "BB      3700\n",
       "ND      3453\n",
       "MT      3305\n",
       "SK      3300\n",
       "MB      3106\n",
       "SD      3013\n",
       "VT      2849\n",
       "MV      2669\n",
       "NS      2664\n",
       "AK      2663\n",
       "HB      2219\n",
       "NB      1730\n",
       "WY      1668\n",
       "SL      1427\n",
       "PR      1120\n",
       "NL      1005\n",
       "PE       270\n",
       "YT       169\n",
       "NT       151\n",
       "GU       138\n",
       "VI       102\n",
       "NU        91\n",
       "MP        34\n",
       "AS         9\n",
       "UM         2\n",
       "Name: stateProvince, Length: 87, dtype: int64"
      ]
     },
     "execution_count": 47,
     "metadata": {},
     "output_type": "execute_result"
    }
   ],
   "source": [
    "## stateProvince\tName of the state or province of the job posting.\n",
    "print(len(df.stateProvince.unique()))\n",
    "df.stateProvince.value_counts(dropna=False)`"
   ]
  },
  {
   "cell_type": "code",
   "execution_count": 46,
   "metadata": {
    "collapsed": true
   },
   "outputs": [
    {
     "data": {
      "text/plain": [
       "NaN                    34971\n",
       "New York               28445\n",
       "Chicago                17132\n",
       "Toronto                16022\n",
       "Houston                15555\n",
       "Berlin                 14966\n",
       "Atlanta                13137\n",
       "Los Angeles            13057\n",
       "Dallas                 11079\n",
       "San Francisco          10846\n",
       "Washington             10676\n",
       "Austin                 10547\n",
       "München                 9924\n",
       "Seattle                 9558\n",
       "San Diego               9517\n",
       "Phoenix                 9325\n",
       "Boston                  9311\n",
       "Montréal                9277\n",
       "San Antonio             8815\n",
       "Philadelphia            8679\n",
       "Columbus                8629\n",
       "Charlotte               8551\n",
       "Vancouver               8545\n",
       "Denver                  8465\n",
       "Hamburg                 8056\n",
       "Orlando                 7476\n",
       "Tampa                   7116\n",
       "Richmond                7050\n",
       "Indianapolis            6867\n",
       "St. Louis               6807\n",
       "                       ...  \n",
       "Hosenfeld                  1\n",
       "Nakusp                     1\n",
       "Saint Mary                 1\n",
       "Brachbach                  1\n",
       "Lithopolis                 1\n",
       "Manoa Valley               1\n",
       "Bitter                     1\n",
       "Boise City                 1\n",
       "Emlichheim                 1\n",
       "Brinklow                   1\n",
       "Ranlo                      1\n",
       "Mochau                     1\n",
       "Wagener                    1\n",
       "Cottonwood Falls           1\n",
       "Putnam Valley              1\n",
       "Tossens                    1\n",
       "South Lake                 1\n",
       "Ahrenshagen-Daskow         1\n",
       "Salz                       1\n",
       "Chapman                    1\n",
       "Münchehofe                 1\n",
       "Moundville                 1\n",
       "Timber                     1\n",
       "Lincolndale                1\n",
       "Aichstetten                1\n",
       "Trabitz                    1\n",
       "Lidderdale                 1\n",
       "Allendorf (Lumda)          1\n",
       "Grenloch                   1\n",
       "Garching an der Alz        1\n",
       "Name: city, Length: 18615, dtype: int64"
      ]
     },
     "execution_count": 46,
     "metadata": {},
     "output_type": "execute_result"
    },
    {
     "name": "stdout",
     "output_type": "stream",
     "text": [
      "18615\n"
     ]
    }
   ],
   "source": [
    "## city\tName of job posting city.\n",
    "df.city.value_counts(dropna=False)\n",
    "print(len(df.city.unique()))"
   ]
  },
  {
   "attachments": {},
   "cell_type": "markdown",
   "metadata": {},
   "source": [
    "## Ratings"
   ]
  },
  {
   "cell_type": "code",
   "execution_count": 52,
   "metadata": {},
   "outputs": [
    {
     "data": {
      "text/plain": [
       "813115     NaN\n",
       "1010855    3.7\n",
       "1447222    4.1\n",
       "226849     NaN\n",
       "1088602    NaN\n",
       "671150     NaN\n",
       "1450555    3.8\n",
       "631967     3.9\n",
       "304698     4.0\n",
       "995638     NaN\n",
       "Name: avgOverallRating, dtype: float64"
      ]
     },
     "execution_count": 52,
     "metadata": {},
     "output_type": "execute_result"
    },
    {
     "name": "stderr",
     "output_type": "stream",
     "text": [
      "/mnt/c/Users/fredcorpuz06/miniconda3/envs/kaggle/lib/python3.6/site-packages/ipykernel_launcher.py:4: SettingWithCopyWarning: \n",
      "A value is trying to be set on a copy of a slice from a DataFrame\n",
      "\n",
      "See the caveats in the documentation: http://pandas.pydata.org/pandas-docs/stable/indexing.html#indexing-view-versus-copy\n",
      "  after removing the cwd from sys.path.\n"
     ]
    },
    {
     "data": {
      "text/plain": [
       "<matplotlib.axes._subplots.AxesSubplot at 0x7fdcf8744d30>"
      ]
     },
     "execution_count": 52,
     "metadata": {},
     "output_type": "execute_result"
    },
    {
     "data": {
      "image/png": "[encoded data removed]",
      "text/plain": [
       "<Figure size 432x288 with 1 Axes>"
      ]
     },
     "metadata": {},
     "output_type": "display_data"
    }
   ],
   "source": [
    "## avgOverallCompanyRating\tAverage rating of the company (1-5 stars), with 0s for non-rated companies.\n",
    "df.avgOverallRating.sample(10)\n",
    "r_zero = df.avgOverallRating == 0\n",
    "df.avgOverallRating[r_zero] = np.nan\n",
    "sns.violinplot(df.avgOverallRating) ## which ratings have 5? multiple 5 ratings or just 1"
   ]
  },
  {
   "cell_type": "code",
   "execution_count": 74,
   "metadata": {},
   "outputs": [
    {
     "data": {
      "text/plain": [
       "count    826568.000000\n",
       "mean          1.819219\n",
       "std           0.472699\n",
       "min           0.301030\n",
       "25%           1.591065\n",
       "50%           1.851258\n",
       "75%           2.000000\n",
       "max           4.025224\n",
       "Name: numReviews, dtype: float64"
      ]
     },
     "execution_count": 74,
     "metadata": {},
     "output_type": "execute_result"
    },
    {
     "data": {
      "text/plain": [
       "<matplotlib.axes._subplots.AxesSubplot at 0x7fdcefb5c780>"
      ]
     },
     "execution_count": 74,
     "metadata": {},
     "output_type": "execute_result"
    },
    {
     "data": {
      "image/png": "[encoded data removed]",
      "text/plain": [
       "<Figure size 432x288 with 1 Axes>"
      ]
     },
     "metadata": {},
     "output_type": "display_data"
    }
   ],
   "source": [
    "## numOfRatings\tTotal number of reviews the company had.\n",
    "lnReview = np.log10(df.numReviews)\n",
    "lnReview.describe()\n",
    "sns.violinplot(lnReview) ## most of number of review 10 < x < 100"
   ]
  },
  {
   "cell_type": "markdown",
   "metadata": {},
   "source": [
    "## Job type\n"
   ]
  },
  {
   "cell_type": "code",
   "execution_count": 76,
   "metadata": {
    "scrolled": true
   },
   "outputs": [
    {
     "name": "stdout",
     "output_type": "stream",
     "text": [
      "195\n"
     ]
    },
    {
     "data": {
      "text/plain": [
       "NaN                                                                                            1581661\n",
       "HEALTH_CARE                                                                                      50705\n",
       "RETAIL                                                                                           18884\n",
       "HUMAN_RESOURCES_AND_STAFFING                                                                     12681\n",
       "CONSULTING_AND_BUSINESS_SERVICES                                                                 12611\n",
       "EDUCATION_AND_SCHOOLS                                                                            11191\n",
       "BANKS_AND_FINANCIAL_SERVICES                                                                      7074\n",
       "RESTAURANTS_TRAVEL_AND_LEISURE                                                                    6857\n",
       "INDUSTRIAL_MANUFACTURING                                                                          6073\n",
       "TRANSPORT_AND_FREIGHT                                                                             5611\n",
       "AUTO                                                                                              4773\n",
       "GOVERNMENT                                                                                        4591\n",
       "FOOD_AND_BEVERAGES                                                                                4444\n",
       "CONSTRUCTION                                                                                      4253\n",
       "CONSUMER_GOODS_AND_SERVICES                                                                       3937\n",
       "INSURANCE                                                                                         3018\n",
       "ORGANIZATION                                                                                      2890\n",
       "INTERNET_AND_SOFTWARE                                                                             2877\n",
       "ENERGY_AND_UTILITIES                                                                              2232\n",
       "REAL_ESTATE                                                                                       2192\n",
       "TELECOMMUNICATIONS                                                                                1868\n",
       "AEROSPACE_AND_DEFENSE                                                                             1701\n",
       "MEDIA_NEWS_AND_PUBLISHING                                                                         1119\n",
       "AGRICULTURE_AND_EXTRACTION                                                                         895\n",
       "COMPUTERS_AND_ELECTRONICS                                                                          738\n",
       "CONSULTING_AND_BUSINESS_SERVICES,HUMAN_RESOURCES_AND_STAFFING                                      574\n",
       "EDUCATION_AND_SCHOOLS,HEALTH_CARE                                                                  517\n",
       "PHARMACEUTICALS                                                                                    501\n",
       "HEALTH_CARE,HUMAN_RESOURCES_AND_STAFFING                                                           427\n",
       "CONSULTING_AND_BUSINESS_SERVICES,HEALTH_CARE                                                       392\n",
       "                                                                                                ...   \n",
       "GOVERNMENT,BANKS_AND_FINANCIAL_SERVICES                                                              3\n",
       "FOOD_AND_BEVERAGES,AGRICULTURE_AND_EXTRACTION                                                        3\n",
       "INDUSTRIAL_MANUFACTURING,AUTO                                                                        3\n",
       "CONSUMER_GOODS_AND_SERVICES,HUMAN_RESOURCES_AND_STAFFING                                             3\n",
       "CONSUMER_GOODS_AND_SERVICES,INTERNET_AND_SOFTWARE                                                    2\n",
       "CONSUMER_GOODS_AND_SERVICES,CONSTRUCTION                                                             2\n",
       "REAL_ESTATE,AUTO                                                                                     2\n",
       "BANKS_AND_FINANCIAL_SERVICES,FOOD_AND_BEVERAGES                                                      2\n",
       "ORGANIZATION,REAL_ESTATE                                                                             2\n",
       "EDUCATION_AND_SCHOOLS,INTERNET_AND_SOFTWARE                                                          2\n",
       "GOVERNMENT,INTERNET_AND_SOFTWARE,ORGANIZATION                                                        2\n",
       "GOVERNMENT,CONSTRUCTION                                                                              2\n",
       "INTERNET_AND_SOFTWARE,TRANSPORT_AND_FREIGHT                                                          2\n",
       "RETAIL,AUTO                                                                                          2\n",
       "ENERGY_AND_UTILITIES,COMPUTERS_AND_ELECTRONICS                                                       2\n",
       "CONSUMER_GOODS_AND_SERVICES,RESTAURANTS_TRAVEL_AND_LEISURE                                           2\n",
       "REAL_ESTATE,CONSTRUCTION                                                                             2\n",
       "INDUSTRIAL_MANUFACTURING,COMPUTERS_AND_ELECTRONICS                                                   2\n",
       "ENERGY_AND_UTILITIES,HUMAN_RESOURCES_AND_STAFFING                                                    2\n",
       "RETAIL,COMPUTERS_AND_ELECTRONICS                                                                     1\n",
       "GOVERNMENT,INTERNET_AND_SOFTWARE                                                                     1\n",
       "COMPUTERS_AND_ELECTRONICS,INDUSTRIAL_MANUFACTURING,INTERNET_AND_SOFTWARE,TELECOMMUNICATIONS          1\n",
       "BANKS_AND_FINANCIAL_SERVICES,CONSULTING_AND_BUSINESS_SERVICES,HUMAN_RESOURCES_AND_STAFFING           1\n",
       "AGRICULTURE_AND_EXTRACTION,CONSULTING_AND_BUSINESS_SERVICES                                          1\n",
       "CONSULTING_AND_BUSINESS_SERVICES,FOOD_AND_BEVERAGES                                                  1\n",
       "CONSULTING_AND_BUSINESS_SERVICES,AGRICULTURE_AND_EXTRACTION                                          1\n",
       "INDUSTRIAL_MANUFACTURING,AEROSPACE_AND_DEFENSE                                                       1\n",
       "INTERNET_AND_SOFTWARE,RESTAURANTS_TRAVEL_AND_LEISURE                                                 1\n",
       "FOOD_AND_BEVERAGES,BANKS_AND_FINANCIAL_SERVICES                                                      1\n",
       "CONSUMER_GOODS_AND_SERVICES,ORGANIZATION                                                             1\n",
       "Name: industry, Length: 195, dtype: int64"
      ]
     },
     "execution_count": 76,
     "metadata": {},
     "output_type": "execute_result"
    }
   ],
   "source": [
    "## industry\tIndustry associated with the company.\n",
    "print(len(df.industry.unique()))\n",
    "df.industry.value_counts(dropna=False)"
   ]
  },
  {
   "cell_type": "code",
   "execution_count": null,
   "metadata": {},
   "outputs": [],
   "source": []
  },
  {
   "cell_type": "code",
   "execution_count": null,
   "metadata": {},
   "outputs": [],
   "source": []
  },
  {
   "cell_type": "code",
   "execution_count": null,
   "metadata": {},
   "outputs": [],
   "source": []
  },
  {
   "cell_type": "code",
   "execution_count": null,
   "metadata": {},
   "outputs": [],
   "source": []
  },
  {
   "cell_type": "code",
   "execution_count": null,
   "metadata": {},
   "outputs": [],
   "source": []
  },
  {
   "cell_type": "code",
   "execution_count": null,
   "metadata": {},
   "outputs": [],
   "source": []
  },
  {
   "cell_type": "code",
   "execution_count": null,
   "metadata": {},
   "outputs": [],
   "source": []
  },
  {
   "cell_type": "code",
   "execution_count": null,
   "metadata": {},
   "outputs": [],
   "source": []
  },
  {
   "cell_type": "markdown",
   "metadata": {},
   "source": [
    "## Word lengths"
   ]
  },
  {
   "cell_type": "code",
   "execution_count": 55,
   "metadata": {
    "collapsed": true
   },
   "outputs": [
    {
     "data": {
      "text/plain": [
       "274150     1066\n",
       "510937     3058\n",
       "401728     5473\n",
       "1376575    2192\n",
       "178484     3977\n",
       "323699      244\n",
       "86237      2113\n",
       "558987     2543\n",
       "810877     2193\n",
       "644716     1064\n",
       "Name: descriptionCharacterLength, dtype: int64"
      ]
     },
     "execution_count": 55,
     "metadata": {},
     "output_type": "execute_result"
    },
    {
     "ename": "KeyboardInterrupt",
     "evalue": "",
     "output_type": "error",
     "traceback": [
      "\u001b[0;31m---------------------------------------------------------------------------\u001b[0m",
      "\u001b[0;31mKeyboardInterrupt\u001b[0m                         Traceback (most recent call last)",
      "\u001b[0;32m<ipython-input-55-f8bfff187243>\u001b[0m in \u001b[0;36m<module>\u001b[0;34m()\u001b[0m\n\u001b[1;32m      3\u001b[0m \u001b[0;34m\u001b[0m\u001b[0m\n\u001b[1;32m      4\u001b[0m \u001b[0mdf\u001b[0m\u001b[0;34m.\u001b[0m\u001b[0mdescriptionCharacterLength\u001b[0m\u001b[0;34m.\u001b[0m\u001b[0msample\u001b[0m\u001b[0;34m(\u001b[0m\u001b[0;36m10\u001b[0m\u001b[0;34m)\u001b[0m\u001b[0;34m\u001b[0m\u001b[0m\n\u001b[0;32m----> 5\u001b[0;31m \u001b[0msns\u001b[0m\u001b[0;34m.\u001b[0m\u001b[0mpointplot\u001b[0m\u001b[0;34m(\u001b[0m\u001b[0mx\u001b[0m\u001b[0;34m=\u001b[0m\u001b[0;34m'descriptionCharacterLength'\u001b[0m\u001b[0;34m,\u001b[0m \u001b[0my\u001b[0m\u001b[0;34m=\u001b[0m\u001b[0;34m'descriptionWordCount'\u001b[0m\u001b[0;34m,\u001b[0m \u001b[0mdata\u001b[0m\u001b[0;34m=\u001b[0m\u001b[0mdf\u001b[0m\u001b[0;34m)\u001b[0m\u001b[0;34m\u001b[0m\u001b[0m\n\u001b[0m",
      "\u001b[0;32m~/miniconda3/envs/kaggle/lib/python3.6/site-packages/seaborn/categorical.py\u001b[0m in \u001b[0;36mpointplot\u001b[0;34m(x, y, hue, data, order, hue_order, estimator, ci, n_boot, units, markers, linestyles, dodge, join, scale, orient, color, palette, errwidth, capsize, ax, **kwargs)\u001b[0m\n\u001b[1;32m   3141\u001b[0m                             \u001b[0mestimator\u001b[0m\u001b[0;34m,\u001b[0m \u001b[0mci\u001b[0m\u001b[0;34m,\u001b[0m \u001b[0mn_boot\u001b[0m\u001b[0;34m,\u001b[0m \u001b[0munits\u001b[0m\u001b[0;34m,\u001b[0m\u001b[0;34m\u001b[0m\u001b[0m\n\u001b[1;32m   3142\u001b[0m                             \u001b[0mmarkers\u001b[0m\u001b[0;34m,\u001b[0m \u001b[0mlinestyles\u001b[0m\u001b[0;34m,\u001b[0m \u001b[0mdodge\u001b[0m\u001b[0;34m,\u001b[0m \u001b[0mjoin\u001b[0m\u001b[0;34m,\u001b[0m \u001b[0mscale\u001b[0m\u001b[0;34m,\u001b[0m\u001b[0;34m\u001b[0m\u001b[0m\n\u001b[0;32m-> 3143\u001b[0;31m                             orient, color, palette, errwidth, capsize)\n\u001b[0m\u001b[1;32m   3144\u001b[0m \u001b[0;34m\u001b[0m\u001b[0m\n\u001b[1;32m   3145\u001b[0m     \u001b[0;32mif\u001b[0m \u001b[0max\u001b[0m \u001b[0;32mis\u001b[0m \u001b[0;32mNone\u001b[0m\u001b[0;34m:\u001b[0m\u001b[0;34m\u001b[0m\u001b[0m\n",
      "\u001b[0;32m~/miniconda3/envs/kaggle/lib/python3.6/site-packages/seaborn/categorical.py\u001b[0m in \u001b[0;36m__init__\u001b[0;34m(self, x, y, hue, data, order, hue_order, estimator, ci, n_boot, units, markers, linestyles, dodge, join, scale, orient, color, palette, errwidth, capsize)\u001b[0m\n\u001b[1;32m   1667\u001b[0m                                  order, hue_order, units)\n\u001b[1;32m   1668\u001b[0m         \u001b[0mself\u001b[0m\u001b[0;34m.\u001b[0m\u001b[0mestablish_colors\u001b[0m\u001b[0;34m(\u001b[0m\u001b[0mcolor\u001b[0m\u001b[0;34m,\u001b[0m \u001b[0mpalette\u001b[0m\u001b[0;34m,\u001b[0m \u001b[0;36m1\u001b[0m\u001b[0;34m)\u001b[0m\u001b[0;34m\u001b[0m\u001b[0m\n\u001b[0;32m-> 1669\u001b[0;31m         \u001b[0mself\u001b[0m\u001b[0;34m.\u001b[0m\u001b[0mestimate_statistic\u001b[0m\u001b[0;34m(\u001b[0m\u001b[0mestimator\u001b[0m\u001b[0;34m,\u001b[0m \u001b[0mci\u001b[0m\u001b[0;34m,\u001b[0m \u001b[0mn_boot\u001b[0m\u001b[0;34m)\u001b[0m\u001b[0;34m\u001b[0m\u001b[0m\n\u001b[0m\u001b[1;32m   1670\u001b[0m \u001b[0;34m\u001b[0m\u001b[0m\n\u001b[1;32m   1671\u001b[0m         \u001b[0;31m# Override the default palette for single-color plots\u001b[0m\u001b[0;34m\u001b[0m\u001b[0;34m\u001b[0m\u001b[0m\n",
      "\u001b[0;32m~/miniconda3/envs/kaggle/lib/python3.6/site-packages/seaborn/categorical.py\u001b[0m in \u001b[0;36mestimate_statistic\u001b[0;34m(self, estimator, ci, n_boot)\u001b[0m\n\u001b[1;32m   1499\u001b[0m                         boots = bootstrap(stat_data, func=estimator,\n\u001b[1;32m   1500\u001b[0m                                           \u001b[0mn_boot\u001b[0m\u001b[0;34m=\u001b[0m\u001b[0mn_boot\u001b[0m\u001b[0;34m,\u001b[0m\u001b[0;34m\u001b[0m\u001b[0m\n\u001b[0;32m-> 1501\u001b[0;31m                                           units=unit_data)\n\u001b[0m\u001b[1;32m   1502\u001b[0m                         \u001b[0mconfint\u001b[0m\u001b[0;34m.\u001b[0m\u001b[0mappend\u001b[0m\u001b[0;34m(\u001b[0m\u001b[0mutils\u001b[0m\u001b[0;34m.\u001b[0m\u001b[0mci\u001b[0m\u001b[0;34m(\u001b[0m\u001b[0mboots\u001b[0m\u001b[0;34m,\u001b[0m \u001b[0mci\u001b[0m\u001b[0;34m)\u001b[0m\u001b[0;34m)\u001b[0m\u001b[0;34m\u001b[0m\u001b[0m\n\u001b[1;32m   1503\u001b[0m \u001b[0;34m\u001b[0m\u001b[0m\n",
      "\u001b[0;32m~/miniconda3/envs/kaggle/lib/python3.6/site-packages/seaborn/algorithms.py\u001b[0m in \u001b[0;36mbootstrap\u001b[0;34m(*args, **kwargs)\u001b[0m\n\u001b[1;32m     74\u001b[0m         \u001b[0mresampler\u001b[0m \u001b[0;34m=\u001b[0m \u001b[0mrs\u001b[0m\u001b[0;34m.\u001b[0m\u001b[0mrandint\u001b[0m\u001b[0;34m(\u001b[0m\u001b[0;36m0\u001b[0m\u001b[0;34m,\u001b[0m \u001b[0mn\u001b[0m\u001b[0;34m,\u001b[0m \u001b[0mn\u001b[0m\u001b[0;34m)\u001b[0m\u001b[0;34m\u001b[0m\u001b[0m\n\u001b[1;32m     75\u001b[0m         \u001b[0msample\u001b[0m \u001b[0;34m=\u001b[0m \u001b[0;34m[\u001b[0m\u001b[0ma\u001b[0m\u001b[0;34m.\u001b[0m\u001b[0mtake\u001b[0m\u001b[0;34m(\u001b[0m\u001b[0mresampler\u001b[0m\u001b[0;34m,\u001b[0m \u001b[0maxis\u001b[0m\u001b[0;34m=\u001b[0m\u001b[0;36m0\u001b[0m\u001b[0;34m)\u001b[0m \u001b[0;32mfor\u001b[0m \u001b[0ma\u001b[0m \u001b[0;32min\u001b[0m \u001b[0margs\u001b[0m\u001b[0;34m]\u001b[0m\u001b[0;34m\u001b[0m\u001b[0m\n\u001b[0;32m---> 76\u001b[0;31m         \u001b[0mboot_dist\u001b[0m\u001b[0;34m.\u001b[0m\u001b[0mappend\u001b[0m\u001b[0;34m(\u001b[0m\u001b[0mfunc\u001b[0m\u001b[0;34m(\u001b[0m\u001b[0;34m*\u001b[0m\u001b[0msample\u001b[0m\u001b[0;34m,\u001b[0m \u001b[0;34m**\u001b[0m\u001b[0mfunc_kwargs\u001b[0m\u001b[0;34m)\u001b[0m\u001b[0;34m)\u001b[0m\u001b[0;34m\u001b[0m\u001b[0m\n\u001b[0m\u001b[1;32m     77\u001b[0m     \u001b[0;32mreturn\u001b[0m \u001b[0mnp\u001b[0m\u001b[0;34m.\u001b[0m\u001b[0marray\u001b[0m\u001b[0;34m(\u001b[0m\u001b[0mboot_dist\u001b[0m\u001b[0;34m)\u001b[0m\u001b[0;34m\u001b[0m\u001b[0m\n\u001b[1;32m     78\u001b[0m \u001b[0;34m\u001b[0m\u001b[0m\n",
      "\u001b[0;32m~/miniconda3/envs/kaggle/lib/python3.6/site-packages/numpy/core/fromnumeric.py\u001b[0m in \u001b[0;36mmean\u001b[0;34m(a, axis, dtype, out, keepdims)\u001b[0m\n\u001b[1;32m   2955\u001b[0m \u001b[0;34m\u001b[0m\u001b[0m\n\u001b[1;32m   2956\u001b[0m     return _methods._mean(a, axis=axis, dtype=dtype,\n\u001b[0;32m-> 2957\u001b[0;31m                           out=out, **kwargs)\n\u001b[0m\u001b[1;32m   2958\u001b[0m \u001b[0;34m\u001b[0m\u001b[0m\n\u001b[1;32m   2959\u001b[0m \u001b[0;34m\u001b[0m\u001b[0m\n",
      "\u001b[0;31mKeyboardInterrupt\u001b[0m: "
     ]
    }
   ],
   "source": [
    "## descriptionCharacterLength\tNumber of characters in job description.\n",
    "## descriptionWordCount\tNumber of words in job description.\n",
    "%%timeit\n",
    "df.descriptionCharacterLength.sample(10)\n",
    "sns.pointplot(x='descriptionCharacterLength', y='descriptionWordCount', data=df)\n"
   ]
  },
  {
   "cell_type": "code",
   "execution_count": 60,
   "metadata": {},
   "outputs": [],
   "source": [
    "from sklearn import linear_model\n",
    "regr = linear_model.LinearRegression()"
   ]
  },
  {
   "cell_type": "code",
   "execution_count": 67,
   "metadata": {},
   "outputs": [
    {
     "data": {
      "text/plain": [
       "array([ 321, 2390, 1710, ..., 1685, 2420, 2932])"
      ]
     },
     "execution_count": 67,
     "metadata": {},
     "output_type": "execute_result"
    }
   ],
   "source": [
    "df.descriptionCharacterLength.values"
   ]
  },
  {
   "cell_type": "code",
   "execution_count": null,
   "metadata": {},
   "outputs": [],
   "source": []
  },
  {
   "cell_type": "code",
   "execution_count": 66,
   "metadata": {
    "collapsed": true
   },
   "outputs": [
    {
     "ename": "ValueError",
     "evalue": "Expected 2D array, got 1D array instead:\narray=[ 321 2390 1710 ... 1685 2420 2932].\nReshape your data either using array.reshape(-1, 1) if your data has a single feature or array.reshape(1, -1) if it contains a single sample.",
     "output_type": "error",
     "traceback": [
      "\u001b[0;31m---------------------------------------------------------------------------\u001b[0m",
      "\u001b[0;31mValueError\u001b[0m                                Traceback (most recent call last)",
      "\u001b[0;32m<ipython-input-66-7add8af592ef>\u001b[0m in \u001b[0;36m<module>\u001b[0;34m()\u001b[0m\n\u001b[1;32m      1\u001b[0m \u001b[0;31m# Train the model using the training sets\u001b[0m\u001b[0;34m\u001b[0m\u001b[0;34m\u001b[0m\u001b[0m\n\u001b[0;32m----> 2\u001b[0;31m \u001b[0mregr\u001b[0m\u001b[0;34m.\u001b[0m\u001b[0mfit\u001b[0m\u001b[0;34m(\u001b[0m\u001b[0mdf\u001b[0m\u001b[0;34m.\u001b[0m\u001b[0mdescriptionCharacterLength\u001b[0m\u001b[0;34m.\u001b[0m\u001b[0mvalues\u001b[0m\u001b[0;34m,\u001b[0m \u001b[0mdf\u001b[0m\u001b[0;34m.\u001b[0m\u001b[0mdescriptionWordCount\u001b[0m\u001b[0;34m.\u001b[0m\u001b[0mvalues\u001b[0m\u001b[0;34m)\u001b[0m\u001b[0;34m\u001b[0m\u001b[0m\n\u001b[0m\u001b[1;32m      3\u001b[0m \u001b[0;34m\u001b[0m\u001b[0m\n\u001b[1;32m      4\u001b[0m \u001b[0my_pred\u001b[0m \u001b[0;34m=\u001b[0m \u001b[0mregr\u001b[0m\u001b[0;34m.\u001b[0m\u001b[0mpredict\u001b[0m\u001b[0;34m(\u001b[0m\u001b[0mdf\u001b[0m\u001b[0;34m.\u001b[0m\u001b[0mdescriptionCharacterLength\u001b[0m\u001b[0;34m.\u001b[0m\u001b[0mvalues\u001b[0m\u001b[0;34m)\u001b[0m\u001b[0;34m\u001b[0m\u001b[0m\n\u001b[1;32m      5\u001b[0m \u001b[0my_pred\u001b[0m\u001b[0;34m.\u001b[0m\u001b[0msample\u001b[0m\u001b[0;34m(\u001b[0m\u001b[0;36m10\u001b[0m\u001b[0;34m)\u001b[0m\u001b[0;34m\u001b[0m\u001b[0m\n",
      "\u001b[0;32m~/miniconda3/envs/kaggle/lib/python3.6/site-packages/sklearn/linear_model/base.py\u001b[0m in \u001b[0;36mfit\u001b[0;34m(self, X, y, sample_weight)\u001b[0m\n\u001b[1;32m    480\u001b[0m         \u001b[0mn_jobs_\u001b[0m \u001b[0;34m=\u001b[0m \u001b[0mself\u001b[0m\u001b[0;34m.\u001b[0m\u001b[0mn_jobs\u001b[0m\u001b[0;34m\u001b[0m\u001b[0m\n\u001b[1;32m    481\u001b[0m         X, y = check_X_y(X, y, accept_sparse=['csr', 'csc', 'coo'],\n\u001b[0;32m--> 482\u001b[0;31m                          y_numeric=True, multi_output=True)\n\u001b[0m\u001b[1;32m    483\u001b[0m \u001b[0;34m\u001b[0m\u001b[0m\n\u001b[1;32m    484\u001b[0m         \u001b[0;32mif\u001b[0m \u001b[0msample_weight\u001b[0m \u001b[0;32mis\u001b[0m \u001b[0;32mnot\u001b[0m \u001b[0;32mNone\u001b[0m \u001b[0;32mand\u001b[0m \u001b[0mnp\u001b[0m\u001b[0;34m.\u001b[0m\u001b[0matleast_1d\u001b[0m\u001b[0;34m(\u001b[0m\u001b[0msample_weight\u001b[0m\u001b[0;34m)\u001b[0m\u001b[0;34m.\u001b[0m\u001b[0mndim\u001b[0m \u001b[0;34m>\u001b[0m \u001b[0;36m1\u001b[0m\u001b[0;34m:\u001b[0m\u001b[0;34m\u001b[0m\u001b[0m\n",
      "\u001b[0;32m~/miniconda3/envs/kaggle/lib/python3.6/site-packages/sklearn/utils/validation.py\u001b[0m in \u001b[0;36mcheck_X_y\u001b[0;34m(X, y, accept_sparse, dtype, order, copy, force_all_finite, ensure_2d, allow_nd, multi_output, ensure_min_samples, ensure_min_features, y_numeric, warn_on_dtype, estimator)\u001b[0m\n\u001b[1;32m    571\u001b[0m     X = check_array(X, accept_sparse, dtype, order, copy, force_all_finite,\n\u001b[1;32m    572\u001b[0m                     \u001b[0mensure_2d\u001b[0m\u001b[0;34m,\u001b[0m \u001b[0mallow_nd\u001b[0m\u001b[0;34m,\u001b[0m \u001b[0mensure_min_samples\u001b[0m\u001b[0;34m,\u001b[0m\u001b[0;34m\u001b[0m\u001b[0m\n\u001b[0;32m--> 573\u001b[0;31m                     ensure_min_features, warn_on_dtype, estimator)\n\u001b[0m\u001b[1;32m    574\u001b[0m     \u001b[0;32mif\u001b[0m \u001b[0mmulti_output\u001b[0m\u001b[0;34m:\u001b[0m\u001b[0;34m\u001b[0m\u001b[0m\n\u001b[1;32m    575\u001b[0m         y = check_array(y, 'csr', force_all_finite=True, ensure_2d=False,\n",
      "\u001b[0;32m~/miniconda3/envs/kaggle/lib/python3.6/site-packages/sklearn/utils/validation.py\u001b[0m in \u001b[0;36mcheck_array\u001b[0;34m(array, accept_sparse, dtype, order, copy, force_all_finite, ensure_2d, allow_nd, ensure_min_samples, ensure_min_features, warn_on_dtype, estimator)\u001b[0m\n\u001b[1;32m    439\u001b[0m                     \u001b[0;34m\"Reshape your data either using array.reshape(-1, 1) if \"\u001b[0m\u001b[0;34m\u001b[0m\u001b[0m\n\u001b[1;32m    440\u001b[0m                     \u001b[0;34m\"your data has a single feature or array.reshape(1, -1) \"\u001b[0m\u001b[0;34m\u001b[0m\u001b[0m\n\u001b[0;32m--> 441\u001b[0;31m                     \"if it contains a single sample.\".format(array))\n\u001b[0m\u001b[1;32m    442\u001b[0m             \u001b[0marray\u001b[0m \u001b[0;34m=\u001b[0m \u001b[0mnp\u001b[0m\u001b[0;34m.\u001b[0m\u001b[0matleast_2d\u001b[0m\u001b[0;34m(\u001b[0m\u001b[0marray\u001b[0m\u001b[0;34m)\u001b[0m\u001b[0;34m\u001b[0m\u001b[0m\n\u001b[1;32m    443\u001b[0m             \u001b[0;31m# To ensure that array flags are maintained\u001b[0m\u001b[0;34m\u001b[0m\u001b[0;34m\u001b[0m\u001b[0m\n",
      "\u001b[0;31mValueError\u001b[0m: Expected 2D array, got 1D array instead:\narray=[ 321 2390 1710 ... 1685 2420 2932].\nReshape your data either using array.reshape(-1, 1) if your data has a single feature or array.reshape(1, -1) if it contains a single sample."
     ]
    }
   ],
   "source": [
    "# Train the model using the training sets\n",
    "regr.fit(df.descriptionCharacterLength.values, df.descriptionWordCount.values)\n",
    "\n",
    "y_pred = regr.predict(df.descriptionCharacterLength.values)\n",
    "y_pred.sample(10)"
   ]
  },
  {
   "cell_type": "code",
   "execution_count": null,
   "metadata": {},
   "outputs": [],
   "source": [
    "plt.plot(df.descriptionCharacterLength, y_pred, color='blue', linewidth=3)\n",
    "\n",
    "plt.show()"
   ]
  },
  {
   "cell_type": "code",
   "execution_count": null,
   "metadata": {},
   "outputs": [],
   "source": []
  },
  {
   "cell_type": "code",
   "execution_count": 12,
   "metadata": {},
   "outputs": [
    {
     "data": {
      "text/plain": [
       "0    2017-04-03\n",
       "1    2017-09-07\n",
       "2    2017-10-08\n",
       "3    2017-10-08\n",
       "4    2017-07-05\n",
       "Name: date, dtype: object"
      ]
     },
     "execution_count": 12,
     "metadata": {},
     "output_type": "execute_result"
    },
    {
     "data": {
      "text/plain": [
       "1763525    2017-03-15\n",
       "1763526    2017-04-07\n",
       "1763527    2017-06-30\n",
       "1763528    2016-10-04\n",
       "1763529    2017-05-27\n",
       "Name: date, dtype: object"
      ]
     },
     "execution_count": 12,
     "metadata": {},
     "output_type": "execute_result"
    }
   ],
   "source": [
    "df.date.head()\n",
    "df.date.tail()"
   ]
  },
  {
   "cell_type": "code",
   "execution_count": 13,
   "metadata": {},
   "outputs": [
    {
     "data": {
      "text/plain": [
       "0   2017-04-03\n",
       "1   2017-09-07\n",
       "2   2017-10-08\n",
       "3   2017-10-08\n",
       "4   2017-07-05\n",
       "Name: date, dtype: datetime64[ns]"
      ]
     },
     "execution_count": 13,
     "metadata": {},
     "output_type": "execute_result"
    }
   ],
   "source": [
    "time = pd.to_datetime(df.date)\n",
    "time.head()"
   ]
  },
  {
   "cell_type": "code",
   "execution_count": 18,
   "metadata": {},
   "outputs": [
    {
     "data": {
      "text/plain": [
       "1431490    3\n",
       "1467355    7\n",
       "1504435    8\n",
       "1105525    9\n",
       "924454     8\n",
       "Name: month, dtype: int64"
      ]
     },
     "execution_count": 18,
     "metadata": {},
     "output_type": "execute_result"
    },
    {
     "data": {
      "text/plain": [
       "92289      25\n",
       "837905      8\n",
       "42377       3\n",
       "342740      2\n",
       "1343454    13\n",
       "Name: day, dtype: int64"
      ]
     },
     "execution_count": 18,
     "metadata": {},
     "output_type": "execute_result"
    }
   ],
   "source": [
    "df['month'] = time.dt.month\n",
    "df.month.sample(5)\n",
    "df['day'] = time.dt.day\n",
    "df.day.sample(5)"
   ]
  },
  {
   "cell_type": "code",
   "execution_count": 20,
   "metadata": {},
   "outputs": [
    {
     "data": {
      "text/plain": [
       "<matplotlib.axes._subplots.AxesSubplot at 0x7fdcfbaae710>"
      ]
     },
     "execution_count": 20,
     "metadata": {},
     "output_type": "execute_result"
    },
    {
     "data": {
      "image/png": "[encoded data removed]",
      "text/plain": [
       "<Figure size 432x288 with 1 Axes>"
      ]
     },
     "metadata": {},
     "output_type": "display_data"
    }
   ],
   "source": [
    "sns.countplot(df.month) ## none in Dec, recruiting during"
   ]
  },
  {
   "cell_type": "code",
   "execution_count": 21,
   "metadata": {},
   "outputs": [
    {
     "data": {
      "text/plain": [
       "<matplotlib.axes._subplots.AxesSubplot at 0x7fdcf99b1da0>"
      ]
     },
     "execution_count": 21,
     "metadata": {},
     "output_type": "execute_result"
    },
    {
     "data": {
      "image/png": "[encoded data removed]",
      "text/plain": [
       "<Figure size 432x288 with 1 Axes>"
      ]
     },
     "metadata": {},
     "output_type": "display_data"
    }
   ],
   "source": [
    "sns.countplot(df.day)"
   ]
  },
  {
   "cell_type": "code",
   "execution_count": 22,
   "metadata": {},
   "outputs": [
    {
     "data": {
      "text/plain": [
       "None                501185\n",
       "Higher education    292929\n",
       "0                   249649\n",
       "High school         248069\n",
       "NaN                 216583\n",
       "2                   136741\n",
       "1                   118374\n",
       "Name: educationRequirement, dtype: int64"
      ]
     },
     "execution_count": 22,
     "metadata": {},
     "output_type": "execute_result"
    }
   ],
   "source": [
    "df.educationRequirement.value_counts(dropna=False)"
   ]
  },
  {
   "cell_type": "code",
   "execution_count": null,
   "metadata": {},
   "outputs": [],
   "source": [
    "## educationRequirement The job's education requirement. Values (\"None\", \"High School\", \"Higher Education\").\n",
    "e_none = df.educationRequirement == '0'\n",
    "e_hs = df.educationRequirement == '1'\n",
    "e_he = df.educationRequirement == '2'\n",
    "# e_he.value_counts(dropna=False)\n",
    "df.educationRequirement[e_none] = 'None'\n",
    "df.educationRequirement[e_hs] = 'High school'\n",
    "df.educationRequirement[e_he] = 'Higher education'"
   ]
  },
  {
   "cell_type": "code",
   "execution_count": 32,
   "metadata": {},
   "outputs": [
    {
     "name": "stderr",
     "output_type": "stream",
     "text": [
      "/mnt/c/Users/fredcorpuz06/miniconda3/envs/kaggle/lib/python3.6/site-packages/ipykernel_launcher.py:5: SettingWithCopyWarning: \n",
      "A value is trying to be set on a copy of a slice from a DataFrame\n",
      "\n",
      "See the caveats in the documentation: http://pandas.pydata.org/pandas-docs/stable/indexing.html#indexing-view-versus-copy\n",
      "  \"\"\"\n",
      "/mnt/c/Users/fredcorpuz06/miniconda3/envs/kaggle/lib/python3.6/site-packages/ipykernel_launcher.py:6: SettingWithCopyWarning: \n",
      "A value is trying to be set on a copy of a slice from a DataFrame\n",
      "\n",
      "See the caveats in the documentation: http://pandas.pydata.org/pandas-docs/stable/indexing.html#indexing-view-versus-copy\n",
      "  \n",
      "/mnt/c/Users/fredcorpuz06/miniconda3/envs/kaggle/lib/python3.6/site-packages/ipykernel_launcher.py:7: SettingWithCopyWarning: \n",
      "A value is trying to be set on a copy of a slice from a DataFrame\n",
      "\n",
      "See the caveats in the documentation: http://pandas.pydata.org/pandas-docs/stable/indexing.html#indexing-view-versus-copy\n",
      "  import sys\n"
     ]
    },
    {
     "data": {
      "text/plain": [
       "None                750834\n",
       "Higher education    429670\n",
       "High school         366443\n",
       "NaN                 216583\n",
       "Name: educationRequirement, dtype: int64"
      ]
     },
     "execution_count": 32,
     "metadata": {},
     "output_type": "execute_result"
    }
   ],
   "source": []
  },
  {
   "cell_type": "code",
   "execution_count": 68,
   "metadata": {},
   "outputs": [
    {
     "data": {
      "text/plain": [
       "None                0.425756\n",
       "Higher education    0.243642\n",
       "High school         0.207789\n",
       "NaN                 0.122812\n",
       "Name: educationRequirement, dtype: float64"
      ]
     },
     "execution_count": 68,
     "metadata": {},
     "output_type": "execute_result"
    },
    {
     "data": {
      "text/plain": [
       "<matplotlib.axes._subplots.AxesSubplot at 0x7fdcefd404e0>"
      ]
     },
     "execution_count": 68,
     "metadata": {},
     "output_type": "execute_result"
    },
    {
     "data": {
      "image/png": "[encoded data removed]",
      "text/plain": [
       "<Figure size 432x288 with 1 Axes>"
      ]
     },
     "metadata": {},
     "output_type": "display_data"
    }
   ],
   "source": [
    "df.educationRequirement.value_counts(dropna=False, normalize=True)\n",
    "sns.countplot(df.educationRequirement) ## students wouldn't go to indeed if they have GCC"
   ]
  },
  {
   "cell_type": "code",
   "execution_count": 36,
   "metadata": {
    "scrolled": true
   },
   "outputs": [
    {
     "data": {
      "text/plain": [
       " 0.0    1001802\n",
       " 1.0     545145\n",
       "NaN      216583\n",
       "Name: licenseRequiredJob, dtype: int64"
      ]
     },
     "execution_count": 36,
     "metadata": {},
     "output_type": "execute_result"
    },
    {
     "data": {
      "text/plain": [
       "<matplotlib.axes._subplots.AxesSubplot at 0x7fdcfba89a20>"
      ]
     },
     "execution_count": 36,
     "metadata": {},
     "output_type": "execute_result"
    },
    {
     "data": {
      "image/png": "[encoded data removed]",
      "text/plain": [
       "<Figure size 432x288 with 1 Axes>"
      ]
     },
     "metadata": {},
     "output_type": "display_data"
    }
   ],
   "source": [
    "## licenseRequiredJob Whether this job is classified as requiring a license\n",
    "df.licenseRequiredJob.value_counts(dropna=False)\n",
    "sns.countplot(df.licenseRequiredJob) "
   ]
  },
  {
   "cell_type": "code",
   "execution_count": 39,
   "metadata": {},
   "outputs": [
    {
     "data": {
      "text/plain": [
       " 0.0    1309918\n",
       " 1.0     237029\n",
       "NaN      216583\n",
       "Name: supervisingJob, dtype: int64"
      ]
     },
     "execution_count": 39,
     "metadata": {},
     "output_type": "execute_result"
    },
    {
     "data": {
      "text/plain": [
       "<matplotlib.axes._subplots.AxesSubplot at 0x7fdcf86ec5f8>"
      ]
     },
     "execution_count": 39,
     "metadata": {},
     "output_type": "execute_result"
    },
    {
     "data": {
      "text/plain": [
       "Text(0.5,1,'supervising job?')"
      ]
     },
     "execution_count": 39,
     "metadata": {},
     "output_type": "execute_result"
    },
    {
     "data": {
      "image/png": "[encoded data removed]",
      "text/plain": [
       "<Figure size 432x288 with 1 Axes>"
      ]
     },
     "metadata": {},
     "output_type": "display_data"
    }
   ],
   "source": [
    "## supervisingJob Whether this job is classified as a supervising job.\n",
    "df.supervisingJob.value_counts(dropna=False)\n",
    "sns.countplot(df.supervisingJob)\n",
    "plt.title('supervising job?') ## lots of low level jobs"
   ]
  },
  {
   "cell_type": "code",
   "execution_count": null,
   "metadata": {},
   "outputs": [],
   "source": []
  },
  {
   "cell_type": "code",
   "execution_count": null,
   "metadata": {},
   "outputs": [],
   "source": []
  },
  {
   "cell_type": "code",
   "execution_count": null,
   "metadata": {},
   "outputs": [],
   "source": []
  },
  {
   "cell_type": "code",
   "execution_count": null,
   "metadata": {},
   "outputs": [],
   "source": []
  },
  {
   "cell_type": "code",
   "execution_count": null,
   "metadata": {},
   "outputs": [],
   "source": []
  },
  {
   "cell_type": "code",
   "execution_count": null,
   "metadata": {},
   "outputs": [],
   "source": []
  },
  {
   "cell_type": "code",
   "execution_count": null,
   "metadata": {},
   "outputs": [],
   "source": []
  }
 ],
 "metadata": {
  "kernelspec": {
   "display_name": "Python 3",
   "language": "python",
   "name": "python3"
  },
  "language_info": {
   "codemirror_mode": {
    "name": "ipython",
    "version": 3
   },
   "file_extension": ".py",
   "mimetype": "text/x-python",
   "name": "python",
   "nbconvert_exporter": "python",
   "pygments_lexer": "ipython3",
   "version": "3.6.4"
  }
 },
 "nbformat": 4,
 "nbformat_minor": 2
}
