{
 "cells": [
  {
   "cell_type": "code",
   "execution_count": 11,
   "metadata": {},
   "outputs": [],
   "source": [
    "from IPython.core.interactiveshell import InteractiveShell\n",
    "InteractiveShell.ast_node_interactivity = 'all'\n",
    "import pandas as pd\n",
    "import numpy as np\n",
    "import matplotlib.pyplot as plt\n",
    "import seaborn as sns\n",
    "%matplotlib inline"
   ]
  },
  {
   "cell_type": "code",
   "execution_count": null,
   "metadata": {},
   "outputs": [],
   "source": []
  },
  {
   "cell_type": "code",
   "execution_count": 5,
   "metadata": {},
   "outputs": [
    {
     "name": "stdout",
     "output_type": "stream",
     "text": [
      "<class 'pandas.core.frame.DataFrame'>\n",
      "RangeIndex: 1763530 entries, 0 to 1763529\n",
      "Data columns (total 23 columns):\n",
      "date                          object\n",
      "companyId                     object\n",
      "jobId                         object\n",
      "country                       object\n",
      "stateProvince                 object\n",
      "city                          object\n",
      "avgOverallRating              float64\n",
      "numReviews                    float64\n",
      "industry                      object\n",
      "normTitle                     object\n",
      "normTitleCategory             object\n",
      "descriptionCharacterLength    int64\n",
      "descriptionWordCount          int64\n",
      "experienceRequired            float64\n",
      "estimatedSalary               int64\n",
      "salaryCurrency                object\n",
      "jobLanguage                   object\n",
      "supervisingJob                float64\n",
      "licenseRequiredJob            float64\n",
      "educationRequirement          object\n",
      "jobAgeDays                    int64\n",
      "clicks                        int64\n",
      "localClicks                   int64\n",
      "dtypes: float64(5), int64(6), object(12)\n",
      "memory usage: 309.5+ MB\n"
     ]
    }
   ],
   "source": [
    "df = pd.read_csv('../data/datafest2018-mini.csv', encoding=\"ISO-8859-1\")\n",
    "df.info()"
   ]
  },
  {
   "cell_type": "code",
   "execution_count": 9,
   "metadata": {},
   "outputs": [
    {
     "data": {
      "text/plain": [
       "date                           0.000000\n",
       "companyId                      0.000000\n",
       "jobId                          0.000000\n",
       "country                        0.000000\n",
       "stateProvince                  0.000000\n",
       "city                           1.983011\n",
       "avgOverallRating               0.001815\n",
       "numReviews                    53.129916\n",
       "industry                      89.687218\n",
       "normTitle                      9.047252\n",
       "normTitleCategory              9.047252\n",
       "descriptionCharacterLength     0.000000\n",
       "descriptionWordCount           0.000000\n",
       "experienceRequired            62.372684\n",
       "estimatedSalary                0.000000\n",
       "salaryCurrency                83.030513\n",
       "jobLanguage                    0.000000\n",
       "supervisingJob                12.281220\n",
       "licenseRequiredJob            12.281220\n",
       "educationRequirement          12.281220\n",
       "jobAgeDays                     0.000000\n",
       "clicks                         0.000000\n",
       "localClicks                    0.000000\n",
       "dtype: float64"
      ]
     },
     "execution_count": 9,
     "metadata": {},
     "output_type": "execute_result"
    }
   ],
   "source": [
    "## Missing\n",
    "missing = df.isnull().sum()\n",
    "missing/len(df) * 100"
   ]
  },
  {
   "cell_type": "code",
   "execution_count": 12,
   "metadata": {},
   "outputs": [
    {
     "data": {
      "text/plain": [
       "0    2017-04-03\n",
       "1    2017-09-07\n",
       "2    2017-10-08\n",
       "3    2017-10-08\n",
       "4    2017-07-05\n",
       "Name: date, dtype: object"
      ]
     },
     "execution_count": 12,
     "metadata": {},
     "output_type": "execute_result"
    },
    {
     "data": {
      "text/plain": [
       "1763525    2017-03-15\n",
       "1763526    2017-04-07\n",
       "1763527    2017-06-30\n",
       "1763528    2016-10-04\n",
       "1763529    2017-05-27\n",
       "Name: date, dtype: object"
      ]
     },
     "execution_count": 12,
     "metadata": {},
     "output_type": "execute_result"
    }
   ],
   "source": [
    "df.date.head()\n",
    "df.date.tail()"
   ]
  },
  {
   "cell_type": "code",
   "execution_count": 13,
   "metadata": {},
   "outputs": [
    {
     "data": {
      "text/plain": [
       "0   2017-04-03\n",
       "1   2017-09-07\n",
       "2   2017-10-08\n",
       "3   2017-10-08\n",
       "4   2017-07-05\n",
       "Name: date, dtype: datetime64[ns]"
      ]
     },
     "execution_count": 13,
     "metadata": {},
     "output_type": "execute_result"
    }
   ],
   "source": [
    "time = pd.to_datetime(df.date)\n",
    "time.head()"
   ]
  },
  {
   "cell_type": "code",
   "execution_count": null,
   "metadata": {},
   "outputs": [],
   "source": []
  }
 ],
 "metadata": {
  "kernelspec": {
   "display_name": "Python 3",
   "language": "python",
   "name": "python3"
  },
  "language_info": {
   "codemirror_mode": {
    "name": "ipython",
    "version": 3
   },
   "file_extension": ".py",
   "mimetype": "text/x-python",
   "name": "python",
   "nbconvert_exporter": "python",
   "pygments_lexer": "ipython3",
   "version": "3.6.4"
  }
 },
 "nbformat": 4,
 "nbformat_minor": 2
}
