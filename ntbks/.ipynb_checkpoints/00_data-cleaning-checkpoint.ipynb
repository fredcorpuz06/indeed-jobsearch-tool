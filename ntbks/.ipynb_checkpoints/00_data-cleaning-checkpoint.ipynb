{
 "cells": [
  {
   "cell_type": "code",
   "execution_count": 11,
   "metadata": {},
   "outputs": [],
   "source": [
    "from IPython.core.interactiveshell import InteractiveShell\n",
    "InteractiveShell.ast_node_interactivity = 'all'\n",
    "import pandas as pd\n",
    "import numpy as np\n",
    "import pickle\n",
    "# import matplotlib.pyplot as plt\n",
    "# import seaborn as sns\n",
    "# %matplotlib inline"
   ]
  },
  {
   "cell_type": "code",
   "execution_count": 13,
   "metadata": {},
   "outputs": [
    {
     "name": "stdout",
     "output_type": "stream",
     "text": [
      "<class 'pandas.core.frame.DataFrame'>\n",
      "RangeIndex: 17635296 entries, 0 to 17635295\n",
      "Data columns (total 23 columns):\n",
      "date                          object\n",
      "companyId                     object\n",
      "jobId                         object\n",
      "country                       object\n",
      "stateProvince                 object\n",
      "city                          object\n",
      "avgOverallRating              float64\n",
      "numReviews                    float64\n",
      "industry                      object\n",
      "normTitle                     object\n",
      "normTitleCategory             object\n",
      "descriptionCharacterLength    int64\n",
      "descriptionWordCount          int64\n",
      "experienceRequired            float64\n",
      "estimatedSalary               int64\n",
      "salaryCurrency                object\n",
      "jobLanguage                   object\n",
      "supervisingJob                float64\n",
      "licenseRequiredJob            float64\n",
      "educationRequirement          object\n",
      "jobAgeDays                    int64\n",
      "clicks                        int64\n",
      "localClicks                   int64\n",
      "dtypes: float64(5), int64(6), object(12)\n",
      "memory usage: 3.0+ GB\n"
     ]
    }
   ],
   "source": [
    "# file_name = 'datafest2018mini'\n",
    "file_name = 'datafest2018NewApril6'\n",
    "df = pd.read_csv('../data/'+ file_name + '.csv' , encoding=\"ISO-8859-1\")\n",
    "df.info()"
   ]
  },
  {
   "cell_type": "code",
   "execution_count": 14,
   "metadata": {},
   "outputs": [
    {
     "data": {
      "text/plain": [
       "10249712     2\n",
       "12110378     3\n",
       "10353781     4\n",
       "6618017     10\n",
       "5273475      9\n",
       "Name: month, dtype: int64"
      ]
     },
     "execution_count": 14,
     "metadata": {},
     "output_type": "execute_result"
    },
    {
     "data": {
      "text/plain": [
       "2894276     16\n",
       "819991      11\n",
       "12260256    13\n",
       "877013      14\n",
       "9715570     15\n",
       "Name: day, dtype: int64"
      ]
     },
     "execution_count": 14,
     "metadata": {},
     "output_type": "execute_result"
    }
   ],
   "source": [
    "## Cleaning\n",
    "df['date'] = pd.to_datetime(df.date)\n",
    "df['month'] = df.date.dt.month\n",
    "df.month.sample(5)\n",
    "df['day'] = df.date.dt.day\n",
    "df.day.sample(5)"
   ]
  },
  {
   "cell_type": "code",
   "execution_count": 15,
   "metadata": {},
   "outputs": [
    {
     "name": "stderr",
     "output_type": "stream",
     "text": [
      "/mnt/c/Users/fredcorpuz06/miniconda3/envs/kaggle/lib/python3.6/site-packages/ipykernel_launcher.py:2: SettingWithCopyWarning: \n",
      "A value is trying to be set on a copy of a slice from a DataFrame\n",
      "\n",
      "See the caveats in the documentation: http://pandas.pydata.org/pandas-docs/stable/indexing.html#indexing-view-versus-copy\n",
      "  \n"
     ]
    }
   ],
   "source": [
    "r_zero = df.avgOverallRating == 0\n",
    "df.avgOverallRating[r_zero] = np.nan\n"
   ]
  },
  {
   "cell_type": "code",
   "execution_count": 16,
   "metadata": {},
   "outputs": [],
   "source": [
    "df['numReview_log'] = np.log10(df.numReviews)"
   ]
  },
  {
   "cell_type": "code",
   "execution_count": 17,
   "metadata": {},
   "outputs": [
    {
     "name": "stderr",
     "output_type": "stream",
     "text": [
      "/mnt/c/Users/fredcorpuz06/miniconda3/envs/kaggle/lib/python3.6/site-packages/ipykernel_launcher.py:2: SettingWithCopyWarning: \n",
      "A value is trying to be set on a copy of a slice from a DataFrame\n",
      "\n",
      "See the caveats in the documentation: http://pandas.pydata.org/pandas-docs/stable/indexing.html#indexing-view-versus-copy\n",
      "  \n"
     ]
    }
   ],
   "source": [
    "s_zero = df.estimatedSalary == 0\n",
    "df.estimatedSalary[s_zero] = np.nan\n"
   ]
  },
  {
   "cell_type": "code",
   "execution_count": 18,
   "metadata": {},
   "outputs": [
    {
     "name": "stderr",
     "output_type": "stream",
     "text": [
      "/mnt/c/Users/fredcorpuz06/miniconda3/envs/kaggle/lib/python3.6/site-packages/ipykernel_launcher.py:6: SettingWithCopyWarning: \n",
      "A value is trying to be set on a copy of a slice from a DataFrame\n",
      "\n",
      "See the caveats in the documentation: http://pandas.pydata.org/pandas-docs/stable/indexing.html#indexing-view-versus-copy\n",
      "  \n",
      "/mnt/c/Users/fredcorpuz06/miniconda3/envs/kaggle/lib/python3.6/site-packages/ipykernel_launcher.py:7: SettingWithCopyWarning: \n",
      "A value is trying to be set on a copy of a slice from a DataFrame\n",
      "\n",
      "See the caveats in the documentation: http://pandas.pydata.org/pandas-docs/stable/indexing.html#indexing-view-versus-copy\n",
      "  import sys\n",
      "/mnt/c/Users/fredcorpuz06/miniconda3/envs/kaggle/lib/python3.6/site-packages/ipykernel_launcher.py:8: SettingWithCopyWarning: \n",
      "A value is trying to be set on a copy of a slice from a DataFrame\n",
      "\n",
      "See the caveats in the documentation: http://pandas.pydata.org/pandas-docs/stable/indexing.html#indexing-view-versus-copy\n",
      "  \n"
     ]
    }
   ],
   "source": [
    "## educationRequirement The job's education requirement. Values (\"None\", \"High School\", \"Higher Education\").\n",
    "e_none = df.educationRequirement == '0'\n",
    "e_hs = df.educationRequirement == '1'\n",
    "e_he = df.educationRequirement == '2'\n",
    "# e_he.value_counts(dropna=False)\n",
    "df.educationRequirement[e_none] = 'None'\n",
    "df.educationRequirement[e_hs] = 'High school'\n",
    "df.educationRequirement[e_he] = 'Higher education'"
   ]
  },
  {
   "cell_type": "code",
   "execution_count": 19,
   "metadata": {},
   "outputs": [
    {
     "name": "stderr",
     "output_type": "stream",
     "text": [
      "/mnt/c/Users/fredcorpuz06/miniconda3/envs/kaggle/lib/python3.6/site-packages/ipykernel_launcher.py:4: SettingWithCopyWarning: \n",
      "A value is trying to be set on a copy of a slice from a DataFrame\n",
      "\n",
      "See the caveats in the documentation: http://pandas.pydata.org/pandas-docs/stable/indexing.html#indexing-view-versus-copy\n",
      "  after removing the cwd from sys.path.\n"
     ]
    }
   ],
   "source": [
    "df['clicks_log'] = np.log10(df.clicks)\n",
    "lcl_zero = df.localClicks < 1\n",
    "lcl = df.localClicks\n",
    "lcl[lcl_zero] = np.nan\n",
    "df['localClicks_log'] = np.log10(lcl)"
   ]
  },
  {
   "cell_type": "code",
   "execution_count": 20,
   "metadata": {},
   "outputs": [
    {
     "name": "stdout",
     "output_type": "stream",
     "text": [
      "<class 'pandas.core.frame.DataFrame'>\n",
      "RangeIndex: 17635296 entries, 0 to 17635295\n",
      "Data columns (total 28 columns):\n",
      "date                          datetime64[ns]\n",
      "companyId                     object\n",
      "jobId                         object\n",
      "country                       object\n",
      "stateProvince                 object\n",
      "city                          object\n",
      "avgOverallRating              float64\n",
      "numReviews                    float64\n",
      "industry                      object\n",
      "normTitle                     object\n",
      "normTitleCategory             object\n",
      "descriptionCharacterLength    int64\n",
      "descriptionWordCount          int64\n",
      "experienceRequired            float64\n",
      "estimatedSalary               float64\n",
      "salaryCurrency                object\n",
      "jobLanguage                   object\n",
      "supervisingJob                float64\n",
      "licenseRequiredJob            float64\n",
      "educationRequirement          object\n",
      "jobAgeDays                    int64\n",
      "clicks                        int64\n",
      "localClicks                   float64\n",
      "month                         int64\n",
      "day                           int64\n",
      "numReview_log                 float64\n",
      "clicks_log                    float64\n",
      "localClicks_log               float64\n",
      "dtypes: datetime64[ns](1), float64(10), int64(6), object(11)\n",
      "memory usage: 3.7+ GB\n"
     ]
    }
   ],
   "source": [
    "df.info()"
   ]
  },
  {
   "cell_type": "code",
   "execution_count": 21,
   "metadata": {},
   "outputs": [
    {
     "name": "stdout",
     "output_type": "stream",
     "text": [
      "CPU times: user 21.6 s, sys: 43 s, total: 1min 4s\n",
      "Wall time: 1min 27s\n"
     ]
    }
   ],
   "source": [
    "%%time \n",
    "with open('../data/'+ file_name + '.pickle', 'wb') as f:\n",
    "    # Pickle the 'data' dictionary using the highest protocol available.\n",
    "    pickle.dump(df, f, pickle.HIGHEST_PROTOCOL)"
   ]
  },
  {
   "cell_type": "code",
   "execution_count": null,
   "metadata": {},
   "outputs": [],
   "source": []
  }
 ],
 "metadata": {
  "kernelspec": {
   "display_name": "Python 3",
   "language": "python",
   "name": "python3"
  },
  "language_info": {
   "codemirror_mode": {
    "name": "ipython",
    "version": 3
   },
   "file_extension": ".py",
   "mimetype": "text/x-python",
   "name": "python",
   "nbconvert_exporter": "python",
   "pygments_lexer": "ipython3",
   "version": "3.6.4"
  }
 },
 "nbformat": 4,
 "nbformat_minor": 2
}
