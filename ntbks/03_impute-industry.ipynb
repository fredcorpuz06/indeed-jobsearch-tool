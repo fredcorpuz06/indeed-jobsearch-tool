{
 "cells": [
  {
   "cell_type": "code",
   "execution_count": 9,
   "metadata": {},
   "outputs": [],
   "source": [
    "from IPython.core.interactiveshell import InteractiveShell\n",
    "InteractiveShell.ast_node_interactivity = 'all'\n",
    "import pandas as pd\n",
    "import numpy as np\n",
    "# import matplotlib.pyplot as plt\n",
    "# import seaborn as sns\n",
    "import re\n",
    "import pickle\n",
    "# %matplotlib inline"
   ]
  },
  {
   "cell_type": "code",
   "execution_count": 2,
   "metadata": {
    "collapsed": true
   },
   "outputs": [
    {
     "name": "stdout",
     "output_type": "stream",
     "text": [
      "<class 'pandas.core.frame.DataFrame'>\n",
      "RangeIndex: 1763530 entries, 0 to 1763529\n",
      "Data columns (total 28 columns):\n",
      "date                          object\n",
      "companyId                     object\n",
      "jobId                         object\n",
      "country                       object\n",
      "stateProvince                 object\n",
      "city                          object\n",
      "avgOverallRating              float64\n",
      "numReviews                    float64\n",
      "industry                      object\n",
      "normTitle                     object\n",
      "normTitleCategory             object\n",
      "descriptionCharacterLength    int64\n",
      "descriptionWordCount          int64\n",
      "experienceRequired            float64\n",
      "estimatedSalary               float64\n",
      "salaryCurrency                object\n",
      "jobLanguage                   object\n",
      "supervisingJob                float64\n",
      "licenseRequiredJob            float64\n",
      "educationRequirement          object\n",
      "jobAgeDays                    int64\n",
      "clicks                        int64\n",
      "localClicks                   float64\n",
      "month                         int64\n",
      "day                           int64\n",
      "clicks_log                    float64\n",
      "localClicks_log               float64\n",
      "numReviews_log                float64\n",
      "dtypes: float64(10), int64(6), object(12)\n",
      "memory usage: 376.7+ MB\n"
     ]
    }
   ],
   "source": [
    "with open('../data/mini-clean.pickle', 'rb') as handle:\n",
    "    df = pickle.load(handle)\n",
    "df.info()"
   ]
  },
  {
   "cell_type": "code",
   "execution_count": 4,
   "metadata": {
    "collapsed": true
   },
   "outputs": [
    {
     "data": {
      "text/html": [
       "<div>\n",
       "<style scoped>\n",
       "    .dataframe tbody tr th:only-of-type {\n",
       "        vertical-align: middle;\n",
       "    }\n",
       "\n",
       "    .dataframe tbody tr th {\n",
       "        vertical-align: top;\n",
       "    }\n",
       "\n",
       "    .dataframe thead th {\n",
       "        text-align: right;\n",
       "    }\n",
       "</style>\n",
       "<table border=\"1\" class=\"dataframe\">\n",
       "  <thead>\n",
       "    <tr style=\"text-align: right;\">\n",
       "      <th></th>\n",
       "      <th>industry</th>\n",
       "      <th>normTitleCategory</th>\n",
       "    </tr>\n",
       "  </thead>\n",
       "  <tbody>\n",
       "    <tr>\n",
       "      <th>0</th>\n",
       "      <td>NaN</td>\n",
       "      <td>childcare</td>\n",
       "    </tr>\n",
       "    <tr>\n",
       "      <th>1</th>\n",
       "      <td>NaN</td>\n",
       "      <td>sales</td>\n",
       "    </tr>\n",
       "    <tr>\n",
       "      <th>2</th>\n",
       "      <td>NaN</td>\n",
       "      <td>engcivil</td>\n",
       "    </tr>\n",
       "    <tr>\n",
       "      <th>3</th>\n",
       "      <td>NaN</td>\n",
       "      <td>hr</td>\n",
       "    </tr>\n",
       "    <tr>\n",
       "      <th>4</th>\n",
       "      <td>HEALTH_CARE</td>\n",
       "      <td>mednurse</td>\n",
       "    </tr>\n",
       "    <tr>\n",
       "      <th>5</th>\n",
       "      <td>NaN</td>\n",
       "      <td>protective</td>\n",
       "    </tr>\n",
       "    <tr>\n",
       "      <th>6</th>\n",
       "      <td>NaN</td>\n",
       "      <td>transport</td>\n",
       "    </tr>\n",
       "    <tr>\n",
       "      <th>7</th>\n",
       "      <td>NaN</td>\n",
       "      <td>engid</td>\n",
       "    </tr>\n",
       "    <tr>\n",
       "      <th>8</th>\n",
       "      <td>NaN</td>\n",
       "      <td>media</td>\n",
       "    </tr>\n",
       "    <tr>\n",
       "      <th>9</th>\n",
       "      <td>NaN</td>\n",
       "      <td>education</td>\n",
       "    </tr>\n",
       "    <tr>\n",
       "      <th>10</th>\n",
       "      <td>NaN</td>\n",
       "      <td>install</td>\n",
       "    </tr>\n",
       "    <tr>\n",
       "      <th>11</th>\n",
       "      <td>NaN</td>\n",
       "      <td>management</td>\n",
       "    </tr>\n",
       "    <tr>\n",
       "      <th>12</th>\n",
       "      <td>NaN</td>\n",
       "      <td>warehouse</td>\n",
       "    </tr>\n",
       "    <tr>\n",
       "      <th>13</th>\n",
       "      <td>NaN</td>\n",
       "      <td>NaN</td>\n",
       "    </tr>\n",
       "    <tr>\n",
       "      <th>14</th>\n",
       "      <td>NaN</td>\n",
       "      <td>food</td>\n",
       "    </tr>\n",
       "    <tr>\n",
       "      <th>15</th>\n",
       "      <td>NaN</td>\n",
       "      <td>driver</td>\n",
       "    </tr>\n",
       "    <tr>\n",
       "      <th>16</th>\n",
       "      <td>NaN</td>\n",
       "      <td>management</td>\n",
       "    </tr>\n",
       "    <tr>\n",
       "      <th>17</th>\n",
       "      <td>NaN</td>\n",
       "      <td>manufacturing</td>\n",
       "    </tr>\n",
       "    <tr>\n",
       "      <th>18</th>\n",
       "      <td>NaN</td>\n",
       "      <td>retail</td>\n",
       "    </tr>\n",
       "    <tr>\n",
       "      <th>19</th>\n",
       "      <td>NaN</td>\n",
       "      <td>mednurse</td>\n",
       "    </tr>\n",
       "  </tbody>\n",
       "</table>\n",
       "</div>"
      ],
      "text/plain": [
       "       industry normTitleCategory\n",
       "0           NaN         childcare\n",
       "1           NaN             sales\n",
       "2           NaN          engcivil\n",
       "3           NaN                hr\n",
       "4   HEALTH_CARE          mednurse\n",
       "5           NaN        protective\n",
       "6           NaN         transport\n",
       "7           NaN             engid\n",
       "8           NaN             media\n",
       "9           NaN         education\n",
       "10          NaN           install\n",
       "11          NaN        management\n",
       "12          NaN         warehouse\n",
       "13          NaN               NaN\n",
       "14          NaN              food\n",
       "15          NaN            driver\n",
       "16          NaN        management\n",
       "17          NaN     manufacturing\n",
       "18          NaN            retail\n",
       "19          NaN          mednurse"
      ]
     },
     "execution_count": 4,
     "metadata": {},
     "output_type": "execute_result"
    }
   ],
   "source": [
    "df2 = df[['industry', 'normTitleCategory']]\n",
    "df2.head(20)"
   ]
  },
  {
   "cell_type": "code",
   "execution_count": 33,
   "metadata": {},
   "outputs": [
    {
     "data": {
      "text/plain": [
       "'CONSULTING_AND_BUSINESS_SERVICES,HUMAN_RESOURCES_AND_STAFFING'"
      ]
     },
     "execution_count": 33,
     "metadata": {},
     "output_type": "execute_result"
    },
    {
     "data": {
      "text/plain": [
       "'CONSULTING_AND_BUSINESS_SERVICES'"
      ]
     },
     "execution_count": 33,
     "metadata": {},
     "output_type": "execute_result"
    }
   ],
   "source": [
    "## Remove 2nd industry Testing one\n",
    "text = df2.industry[35]\n",
    "text\n",
    "p = r'^[A-Z_]+'\n",
    "m = re.search(p, text)\n",
    "text[m.start(): m.end()]"
   ]
  },
  {
   "cell_type": "code",
   "execution_count": 60,
   "metadata": {},
   "outputs": [],
   "source": [
    "def get_first_industry(text):\n",
    "    if type(text) == str: \n",
    "        p = r'^[A-Z_]+'\n",
    "        m = re.search(p, text)\n",
    "        return text[m.start():m.end()]\n",
    "    else:\n",
    "        return np.nan"
   ]
  },
  {
   "cell_type": "code",
   "execution_count": 64,
   "metadata": {
    "collapsed": true
   },
   "outputs": [
    {
     "data": {
      "text/plain": [
       "195"
      ]
     },
     "execution_count": 64,
     "metadata": {},
     "output_type": "execute_result"
    },
    {
     "ename": "AttributeError",
     "evalue": "'list' object has no attribute 'unique'",
     "output_type": "error",
     "traceback": [
      "\u001b[0;31m---------------------------------------------------------------------------\u001b[0m",
      "\u001b[0;31mAttributeError\u001b[0m                            Traceback (most recent call last)",
      "\u001b[0;32m<ipython-input-64-cd3712aaba9e>\u001b[0m in \u001b[0;36m<module>\u001b[0;34m()\u001b[0m\n\u001b[1;32m      2\u001b[0m \u001b[0mlen\u001b[0m\u001b[0;34m(\u001b[0m\u001b[0mtexts\u001b[0m\u001b[0;34m.\u001b[0m\u001b[0munique\u001b[0m\u001b[0;34m(\u001b[0m\u001b[0;34m)\u001b[0m\u001b[0;34m)\u001b[0m\u001b[0;34m\u001b[0m\u001b[0m\n\u001b[1;32m      3\u001b[0m \u001b[0mfirsts\u001b[0m \u001b[0;34m=\u001b[0m \u001b[0;34m[\u001b[0m\u001b[0mget_first_industry\u001b[0m\u001b[0;34m(\u001b[0m\u001b[0mt\u001b[0m\u001b[0;34m)\u001b[0m \u001b[0;32mfor\u001b[0m \u001b[0mt\u001b[0m \u001b[0;32min\u001b[0m \u001b[0mtexts\u001b[0m\u001b[0;34m]\u001b[0m\u001b[0;34m\u001b[0m\u001b[0m\n\u001b[0;32m----> 4\u001b[0;31m \u001b[0mlen\u001b[0m\u001b[0;34m(\u001b[0m\u001b[0mfirsts\u001b[0m\u001b[0;34m.\u001b[0m\u001b[0munique\u001b[0m\u001b[0;34m(\u001b[0m\u001b[0;34m)\u001b[0m\u001b[0;34m)\u001b[0m\u001b[0;34m\u001b[0m\u001b[0m\n\u001b[0m",
      "\u001b[0;31mAttributeError\u001b[0m: 'list' object has no attribute 'unique'"
     ]
    }
   ],
   "source": [
    "texts = df2.industry\n",
    "len(texts.unique())\n",
    "firsts = [get_first_industry(t) for t in texts]\n"
   ]
  },
  {
   "cell_type": "code",
   "execution_count": 84,
   "metadata": {},
   "outputs": [
    {
     "name": "stderr",
     "output_type": "stream",
     "text": [
      "/mnt/c/Users/fredcorpuz06/miniconda3/envs/kaggle/lib/python3.6/site-packages/pandas/core/generic.py:3643: SettingWithCopyWarning: \n",
      "A value is trying to be set on a copy of a slice from a DataFrame.\n",
      "Try using .loc[row_indexer,col_indexer] = value instead\n",
      "\n",
      "See the caveats in the documentation: http://pandas.pydata.org/pandas-docs/stable/indexing.html#indexing-view-versus-copy\n",
      "  self[name] = value\n"
     ]
    },
    {
     "data": {
      "text/html": [
       "<div>\n",
       "<style scoped>\n",
       "    .dataframe tbody tr th:only-of-type {\n",
       "        vertical-align: middle;\n",
       "    }\n",
       "\n",
       "    .dataframe tbody tr th {\n",
       "        vertical-align: top;\n",
       "    }\n",
       "\n",
       "    .dataframe thead th {\n",
       "        text-align: right;\n",
       "    }\n",
       "</style>\n",
       "<table border=\"1\" class=\"dataframe\">\n",
       "  <thead>\n",
       "    <tr style=\"text-align: right;\">\n",
       "      <th></th>\n",
       "      <th>industry</th>\n",
       "      <th>normTitleCategory</th>\n",
       "    </tr>\n",
       "  </thead>\n",
       "  <tbody>\n",
       "    <tr>\n",
       "      <th>0</th>\n",
       "      <td>NaN</td>\n",
       "      <td>childcare</td>\n",
       "    </tr>\n",
       "    <tr>\n",
       "      <th>1</th>\n",
       "      <td>NaN</td>\n",
       "      <td>sales</td>\n",
       "    </tr>\n",
       "    <tr>\n",
       "      <th>2</th>\n",
       "      <td>NaN</td>\n",
       "      <td>engcivil</td>\n",
       "    </tr>\n",
       "    <tr>\n",
       "      <th>3</th>\n",
       "      <td>NaN</td>\n",
       "      <td>hr</td>\n",
       "    </tr>\n",
       "    <tr>\n",
       "      <th>4</th>\n",
       "      <td>HEALTH_CARE</td>\n",
       "      <td>mednurse</td>\n",
       "    </tr>\n",
       "  </tbody>\n",
       "</table>\n",
       "</div>"
      ],
      "text/plain": [
       "      industry normTitleCategory\n",
       "0          NaN         childcare\n",
       "1          NaN             sales\n",
       "2          NaN          engcivil\n",
       "3          NaN                hr\n",
       "4  HEALTH_CARE          mednurse"
      ]
     },
     "execution_count": 84,
     "metadata": {},
     "output_type": "execute_result"
    }
   ],
   "source": [
    "df2.industry = firsts\n",
    "df2.head()"
   ]
  },
  {
   "cell_type": "code",
   "execution_count": 85,
   "metadata": {},
   "outputs": [
    {
     "data": {
      "text/html": [
       "<div>\n",
       "<style scoped>\n",
       "    .dataframe tbody tr th:only-of-type {\n",
       "        vertical-align: middle;\n",
       "    }\n",
       "\n",
       "    .dataframe tbody tr th {\n",
       "        vertical-align: top;\n",
       "    }\n",
       "\n",
       "    .dataframe thead th {\n",
       "        text-align: right;\n",
       "    }\n",
       "</style>\n",
       "<table border=\"1\" class=\"dataframe\">\n",
       "  <thead>\n",
       "    <tr style=\"text-align: right;\">\n",
       "      <th></th>\n",
       "      <th>industry</th>\n",
       "      <th>normTitleCategory_accounting</th>\n",
       "      <th>normTitleCategory_admin</th>\n",
       "      <th>normTitleCategory_agriculture</th>\n",
       "      <th>normTitleCategory_arch</th>\n",
       "      <th>normTitleCategory_arts</th>\n",
       "      <th>normTitleCategory_aviation</th>\n",
       "      <th>normTitleCategory_care</th>\n",
       "      <th>normTitleCategory_childcare</th>\n",
       "      <th>normTitleCategory_construction</th>\n",
       "      <th>...</th>\n",
       "      <th>normTitleCategory_sports</th>\n",
       "      <th>normTitleCategory_tech</th>\n",
       "      <th>normTitleCategory_techhelp</th>\n",
       "      <th>normTitleCategory_techinfo</th>\n",
       "      <th>normTitleCategory_techsoftware</th>\n",
       "      <th>normTitleCategory_therapy</th>\n",
       "      <th>normTitleCategory_transport</th>\n",
       "      <th>normTitleCategory_uncategorized</th>\n",
       "      <th>normTitleCategory_veterinary</th>\n",
       "      <th>normTitleCategory_warehouse</th>\n",
       "    </tr>\n",
       "  </thead>\n",
       "  <tbody>\n",
       "    <tr>\n",
       "      <th>0</th>\n",
       "      <td>NaN</td>\n",
       "      <td>0</td>\n",
       "      <td>0</td>\n",
       "      <td>0</td>\n",
       "      <td>0</td>\n",
       "      <td>0</td>\n",
       "      <td>0</td>\n",
       "      <td>0</td>\n",
       "      <td>1</td>\n",
       "      <td>0</td>\n",
       "      <td>...</td>\n",
       "      <td>0</td>\n",
       "      <td>0</td>\n",
       "      <td>0</td>\n",
       "      <td>0</td>\n",
       "      <td>0</td>\n",
       "      <td>0</td>\n",
       "      <td>0</td>\n",
       "      <td>0</td>\n",
       "      <td>0</td>\n",
       "      <td>0</td>\n",
       "    </tr>\n",
       "    <tr>\n",
       "      <th>1</th>\n",
       "      <td>NaN</td>\n",
       "      <td>0</td>\n",
       "      <td>0</td>\n",
       "      <td>0</td>\n",
       "      <td>0</td>\n",
       "      <td>0</td>\n",
       "      <td>0</td>\n",
       "      <td>0</td>\n",
       "      <td>0</td>\n",
       "      <td>0</td>\n",
       "      <td>...</td>\n",
       "      <td>0</td>\n",
       "      <td>0</td>\n",
       "      <td>0</td>\n",
       "      <td>0</td>\n",
       "      <td>0</td>\n",
       "      <td>0</td>\n",
       "      <td>0</td>\n",
       "      <td>0</td>\n",
       "      <td>0</td>\n",
       "      <td>0</td>\n",
       "    </tr>\n",
       "    <tr>\n",
       "      <th>2</th>\n",
       "      <td>NaN</td>\n",
       "      <td>0</td>\n",
       "      <td>0</td>\n",
       "      <td>0</td>\n",
       "      <td>0</td>\n",
       "      <td>0</td>\n",
       "      <td>0</td>\n",
       "      <td>0</td>\n",
       "      <td>0</td>\n",
       "      <td>0</td>\n",
       "      <td>...</td>\n",
       "      <td>0</td>\n",
       "      <td>0</td>\n",
       "      <td>0</td>\n",
       "      <td>0</td>\n",
       "      <td>0</td>\n",
       "      <td>0</td>\n",
       "      <td>0</td>\n",
       "      <td>0</td>\n",
       "      <td>0</td>\n",
       "      <td>0</td>\n",
       "    </tr>\n",
       "    <tr>\n",
       "      <th>3</th>\n",
       "      <td>NaN</td>\n",
       "      <td>0</td>\n",
       "      <td>0</td>\n",
       "      <td>0</td>\n",
       "      <td>0</td>\n",
       "      <td>0</td>\n",
       "      <td>0</td>\n",
       "      <td>0</td>\n",
       "      <td>0</td>\n",
       "      <td>0</td>\n",
       "      <td>...</td>\n",
       "      <td>0</td>\n",
       "      <td>0</td>\n",
       "      <td>0</td>\n",
       "      <td>0</td>\n",
       "      <td>0</td>\n",
       "      <td>0</td>\n",
       "      <td>0</td>\n",
       "      <td>0</td>\n",
       "      <td>0</td>\n",
       "      <td>0</td>\n",
       "    </tr>\n",
       "    <tr>\n",
       "      <th>4</th>\n",
       "      <td>HEALTH_CARE</td>\n",
       "      <td>0</td>\n",
       "      <td>0</td>\n",
       "      <td>0</td>\n",
       "      <td>0</td>\n",
       "      <td>0</td>\n",
       "      <td>0</td>\n",
       "      <td>0</td>\n",
       "      <td>0</td>\n",
       "      <td>0</td>\n",
       "      <td>...</td>\n",
       "      <td>0</td>\n",
       "      <td>0</td>\n",
       "      <td>0</td>\n",
       "      <td>0</td>\n",
       "      <td>0</td>\n",
       "      <td>0</td>\n",
       "      <td>0</td>\n",
       "      <td>0</td>\n",
       "      <td>0</td>\n",
       "      <td>0</td>\n",
       "    </tr>\n",
       "  </tbody>\n",
       "</table>\n",
       "<p>5 rows × 58 columns</p>\n",
       "</div>"
      ],
      "text/plain": [
       "      industry  normTitleCategory_accounting  normTitleCategory_admin  \\\n",
       "0          NaN                             0                        0   \n",
       "1          NaN                             0                        0   \n",
       "2          NaN                             0                        0   \n",
       "3          NaN                             0                        0   \n",
       "4  HEALTH_CARE                             0                        0   \n",
       "\n",
       "   normTitleCategory_agriculture  normTitleCategory_arch  \\\n",
       "0                              0                       0   \n",
       "1                              0                       0   \n",
       "2                              0                       0   \n",
       "3                              0                       0   \n",
       "4                              0                       0   \n",
       "\n",
       "   normTitleCategory_arts  normTitleCategory_aviation  normTitleCategory_care  \\\n",
       "0                       0                           0                       0   \n",
       "1                       0                           0                       0   \n",
       "2                       0                           0                       0   \n",
       "3                       0                           0                       0   \n",
       "4                       0                           0                       0   \n",
       "\n",
       "   normTitleCategory_childcare  normTitleCategory_construction  \\\n",
       "0                            1                               0   \n",
       "1                            0                               0   \n",
       "2                            0                               0   \n",
       "3                            0                               0   \n",
       "4                            0                               0   \n",
       "\n",
       "              ...               normTitleCategory_sports  \\\n",
       "0             ...                                      0   \n",
       "1             ...                                      0   \n",
       "2             ...                                      0   \n",
       "3             ...                                      0   \n",
       "4             ...                                      0   \n",
       "\n",
       "   normTitleCategory_tech  normTitleCategory_techhelp  \\\n",
       "0                       0                           0   \n",
       "1                       0                           0   \n",
       "2                       0                           0   \n",
       "3                       0                           0   \n",
       "4                       0                           0   \n",
       "\n",
       "   normTitleCategory_techinfo  normTitleCategory_techsoftware  \\\n",
       "0                           0                               0   \n",
       "1                           0                               0   \n",
       "2                           0                               0   \n",
       "3                           0                               0   \n",
       "4                           0                               0   \n",
       "\n",
       "   normTitleCategory_therapy  normTitleCategory_transport  \\\n",
       "0                          0                            0   \n",
       "1                          0                            0   \n",
       "2                          0                            0   \n",
       "3                          0                            0   \n",
       "4                          0                            0   \n",
       "\n",
       "   normTitleCategory_uncategorized  normTitleCategory_veterinary  \\\n",
       "0                                0                             0   \n",
       "1                                0                             0   \n",
       "2                                0                             0   \n",
       "3                                0                             0   \n",
       "4                                0                             0   \n",
       "\n",
       "   normTitleCategory_warehouse  \n",
       "0                            0  \n",
       "1                            0  \n",
       "2                            0  \n",
       "3                            0  \n",
       "4                            0  \n",
       "\n",
       "[5 rows x 58 columns]"
      ]
     },
     "execution_count": 85,
     "metadata": {},
     "output_type": "execute_result"
    }
   ],
   "source": [
    "df3 = pd.get_dummies(df2, columns=['normTitleCategory'])\n",
    "df3.head()"
   ]
  },
  {
   "cell_type": "code",
   "execution_count": 95,
   "metadata": {},
   "outputs": [
    {
     "name": "stdout",
     "output_type": "stream",
     "text": [
      "1581661\n",
      "181869\n"
     ]
    }
   ],
   "source": [
    "ind_missing = df3.industry.isnull()\n",
    "df3_wo = df3[ind_missing]\n",
    "print(len(df3_wo))\n",
    "\n",
    "df3_w = df3[np.logical_not(ind_missing)]\n",
    "print(len(df3_w))"
   ]
  },
  {
   "cell_type": "code",
   "execution_count": 96,
   "metadata": {},
   "outputs": [
    {
     "name": "stdout",
     "output_type": "stream",
     "text": [
      "(181869, 57) (181869,)\n"
     ]
    }
   ],
   "source": [
    "X = df3_w.iloc[:,1:].values\n",
    "y = df3_w.industry.values\n",
    "print(X.shape, y.shape)"
   ]
  },
  {
   "cell_type": "code",
   "execution_count": 100,
   "metadata": {},
   "outputs": [
    {
     "name": "stdout",
     "output_type": "stream",
     "text": [
      "(121852, 57) (60017, 57) (121852,) (60017,)\n"
     ]
    }
   ],
   "source": [
    "X_train, X_test, y_train, y_test = train_test_split(X, y, test_size=0.33, random_state=1234)\n",
    "print(X_train.shape, X_test.shape, y_train.shape, y_test.shape)"
   ]
  },
  {
   "cell_type": "code",
   "execution_count": null,
   "metadata": {},
   "outputs": [],
   "source": []
  },
  {
   "cell_type": "code",
   "execution_count": 107,
   "metadata": {},
   "outputs": [],
   "source": [
    "from sklearn.model_selection import train_test_split\n",
    "from sklearn import preprocessing\n",
    "from sklearn.pipeline import make_pipeline\n",
    "from sklearn.model_selection import GridSearchCV\n",
    "from sklearn.metrics import classification_report, confusion_matrix, f1_score\n",
    "from sklearn.externals import joblib"
   ]
  },
  {
   "cell_type": "code",
   "execution_count": null,
   "metadata": {},
   "outputs": [],
   "source": []
  },
  {
   "cell_type": "code",
   "execution_count": 124,
   "metadata": {},
   "outputs": [],
   "source": [
    "from sklearn.tree import DecisionTreeClassifier\n",
    "from sklearn.ensemble import RandomForestClassifier\n",
    "# model = DecisionTreeClassifier()\n",
    "model = RandomForestClassifier(n_estimators=100)"
   ]
  },
  {
   "cell_type": "code",
   "execution_count": 122,
   "metadata": {},
   "outputs": [],
   "source": [
    "RandomForestClassifier?"
   ]
  },
  {
   "cell_type": "code",
   "execution_count": 125,
   "metadata": {},
   "outputs": [
    {
     "data": {
      "text/plain": [
       "RandomForestClassifier(bootstrap=True, class_weight=None, criterion='gini',\n",
       "            max_depth=None, max_features='auto', max_leaf_nodes=None,\n",
       "            min_impurity_decrease=0.0, min_impurity_split=None,\n",
       "            min_samples_leaf=1, min_samples_split=2,\n",
       "            min_weight_fraction_leaf=0.0, n_estimators=100, n_jobs=1,\n",
       "            oob_score=False, random_state=None, verbose=0,\n",
       "            warm_start=False)"
      ]
     },
     "execution_count": 125,
     "metadata": {},
     "output_type": "execute_result"
    }
   ],
   "source": [
    "model.fit(X_train, y_train)"
   ]
  },
  {
   "cell_type": "code",
   "execution_count": 126,
   "metadata": {},
   "outputs": [],
   "source": [
    "y_pred = model.predict(X_test)"
   ]
  },
  {
   "cell_type": "code",
   "execution_count": 120,
   "metadata": {},
   "outputs": [
    {
     "data": {
      "text/plain": [
       "array([[   28,     0,     0,     3,     0,     6,   235,     0,     9,\n",
       "            0,     0,     2,   237,    74,     0,     4,     0,     0,\n",
       "            0,     0,     0,     0,    61,     0,     0],\n",
       "       [    0,    11,     0,     1,     0,    22,    30,     0,     4,\n",
       "            0,     0,     0,   170,    55,     1,     0,     0,     0,\n",
       "            0,     0,     0,     2,    45,     0,    48],\n",
       "       [    0,     0,     0,     8,     0,    18,    87,     0,     3,\n",
       "            0,     0,     0,   617,   118,     0,     9,     0,     0,\n",
       "            0,     0,     4,    11,   613,     0,   145],\n",
       "       [    4,     0,     0,   167,     0,     1,   356,     2,    14,\n",
       "            0,     0,     0,   687,   201,     0,    31,     0,     0,\n",
       "            0,     0,    17,    11,  1114,     0,     2],\n",
       "       [    0,     0,     0,     1,     0,     0,   107,     0,     2,\n",
       "            0,     0,     0,    89,    18,     0,     0,     0,     0,\n",
       "            0,     0,     0,     3,    52,     0,     1],\n",
       "       [    0,     0,     0,     6,     0,   189,   182,     0,     1,\n",
       "            0,     0,     0,   672,   181,     1,     3,     0,     0,\n",
       "            0,     0,     6,     3,   299,     0,    96],\n",
       "       [    0,     1,     0,    34,     0,    65,  1301,     1,    51,\n",
       "            0,     0,     0,  1828,   708,     4,    40,     0,     0,\n",
       "            0,     0,    29,    14,   649,     0,    83],\n",
       "       [    0,     0,     0,     4,     0,     9,   104,   122,   128,\n",
       "            0,     0,     0,   521,    88,     0,     4,     0,     0,\n",
       "            0,     0,     1,    21,   521,     0,    22],\n",
       "       [    1,     0,     0,    16,     0,     7,   241,     4,  1333,\n",
       "            0,     0,     0,  1831,    86,     0,     7,     0,     0,\n",
       "            0,     0,     2,    43,   256,     0,    14],\n",
       "       [    0,     3,     0,     1,     0,    27,   105,     0,     4,\n",
       "            0,     0,     0,   294,    72,     0,     0,     0,     0,\n",
       "            0,     0,     0,     1,   178,     0,    65],\n",
       "       [    0,     2,     0,     2,     0,    12,    35,     0,    17,\n",
       "            0,     0,     0,   515,   210,     0,     0,     0,     0,\n",
       "            0,     0,     0,   354,   351,     0,   113],\n",
       "       [    0,     6,     0,    12,     0,    23,   268,     0,    41,\n",
       "            0,     0,    16,   953,    70,     0,     1,     0,     0,\n",
       "            0,     0,     3,    15,   139,     0,    10],\n",
       "       [    1,     2,     0,    22,     0,     9,   595,    12,   246,\n",
       "            0,     0,     0, 14662,   220,     0,    23,     0,     0,\n",
       "            0,     0,     8,   276,   798,     0,    81],\n",
       "       [    1,     6,     0,    32,     0,   146,   458,     4,    34,\n",
       "            0,     0,     0,  1792,  1129,     0,    15,     0,     0,\n",
       "            0,     0,    14,    37,   463,     0,    94],\n",
       "       [    0,     0,     0,    10,     0,    72,   247,     1,     5,\n",
       "            0,     0,     0,   854,   499,     6,     3,     0,     0,\n",
       "            0,     0,     0,     1,   422,     0,   139],\n",
       "       [    0,     0,     0,    20,     0,     1,   154,     0,     2,\n",
       "            0,     0,     0,   343,    51,     0,   170,     0,     0,\n",
       "            0,     0,     1,     0,   251,     0,     9],\n",
       "       [    2,     0,     0,     6,     0,     3,   417,     0,    12,\n",
       "            0,     0,     0,   268,    76,     0,     7,     0,     0,\n",
       "            0,     0,     1,     1,   212,     0,     3],\n",
       "       [    0,     0,     0,     0,     0,     0,    71,     0,     2,\n",
       "            0,     0,     0,   119,    32,     0,     0,     0,     0,\n",
       "            0,     0,     0,     5,   132,     0,     6],\n",
       "       [    0,     0,     0,     1,     0,     2,    84,     0,    85,\n",
       "            0,     0,     0,   613,    46,     0,     0,     0,     0,\n",
       "            0,     0,     2,     9,   106,     0,    20],\n",
       "       [    0,     0,     0,     0,     0,     0,    30,     0,     1,\n",
       "            0,     0,     0,    78,    23,     0,     0,     0,     0,\n",
       "            0,     0,     0,     0,    25,     0,     5],\n",
       "       [    0,     0,     0,     8,     0,    21,    47,     0,     4,\n",
       "            0,     0,     0,   323,    23,     0,     6,     0,     0,\n",
       "            0,     0,   201,    15,   105,     0,     1],\n",
       "       [    3,     0,     0,     2,     0,     8,    57,    11,    24,\n",
       "            0,     0,     1,   667,    38,     0,     0,     0,     0,\n",
       "            0,     0,     2,   952,   518,     0,    67],\n",
       "       [    0,     0,     0,     2,     0,    22,   198,    69,    42,\n",
       "            0,     0,     0,  1651,   333,     0,     1,     0,     0,\n",
       "            0,     0,     4,   149,  3663,     0,    65],\n",
       "       [    0,     0,     0,     1,     0,     2,   111,     0,     0,\n",
       "            0,     0,     0,   313,    19,     0,     0,     0,     0,\n",
       "            0,     0,     0,     1,   199,     0,     0],\n",
       "       [    7,     0,     0,     2,     0,    15,    30,     0,     8,\n",
       "            0,     0,     0,   380,   190,     0,     2,     0,     0,\n",
       "            0,     0,     9,     4,   149,     0,  1014]])"
      ]
     },
     "execution_count": 120,
     "metadata": {},
     "output_type": "execute_result"
    }
   ],
   "source": [
    "confusion_matrix(y_test, y_pred)"
   ]
  },
  {
   "cell_type": "code",
   "execution_count": 121,
   "metadata": {
    "scrolled": true
   },
   "outputs": [
    {
     "name": "stderr",
     "output_type": "stream",
     "text": [
      "/mnt/c/Users/fredcorpuz06/miniconda3/envs/kaggle/lib/python3.6/site-packages/sklearn/metrics/classification.py:1135: UndefinedMetricWarning: Precision and F-score are ill-defined and being set to 0.0 in labels with no predicted samples.\n",
      "  'precision', 'predicted', average, warn_for)\n"
     ]
    },
    {
     "data": {
      "text/plain": [
       "'                                  precision    recall  f1-score   support\\n\\n           AEROSPACE_AND_DEFENSE       0.60      0.04      0.08       659\\n      AGRICULTURE_AND_EXTRACTION       0.35      0.03      0.05       389\\n                            AUTO       0.00      0.00      0.00      1633\\n    BANKS_AND_FINANCIAL_SERVICES       0.46      0.06      0.11      2607\\n       COMPUTERS_AND_ELECTRONICS       0.00      0.00      0.00       273\\n                    CONSTRUCTION       0.28      0.12      0.16      1639\\nCONSULTING_AND_BUSINESS_SERVICES       0.23      0.27      0.25      4808\\n     CONSUMER_GOODS_AND_SERVICES       0.54      0.08      0.14      1545\\n           EDUCATION_AND_SCHOOLS       0.64      0.35      0.45      3841\\n            ENERGY_AND_UTILITIES       0.00      0.00      0.00       750\\n              FOOD_AND_BEVERAGES       0.00      0.00      0.00      1611\\n                      GOVERNMENT       0.84      0.01      0.02      1557\\n                     HEALTH_CARE       0.48      0.86      0.62     16955\\n    HUMAN_RESOURCES_AND_STAFFING       0.25      0.27      0.26      4225\\n        INDUSTRIAL_MANUFACTURING       0.50      0.00      0.01      2259\\n                       INSURANCE       0.52      0.17      0.26      1002\\n           INTERNET_AND_SOFTWARE       0.00      0.00      0.00      1008\\n       MEDIA_NEWS_AND_PUBLISHING       0.00      0.00      0.00       367\\n                    ORGANIZATION       0.00      0.00      0.00       968\\n                 PHARMACEUTICALS       0.00      0.00      0.00       162\\n                     REAL_ESTATE       0.66      0.27      0.38       754\\n  RESTAURANTS_TRAVEL_AND_LEISURE       0.49      0.41      0.45      2350\\n                          RETAIL       0.32      0.59      0.42      6199\\n              TELECOMMUNICATIONS       0.00      0.00      0.00       646\\n           TRANSPORT_AND_FREIGHT       0.48      0.56      0.52      1810\\n\\n                     avg / total       0.39      0.42      0.34     60017\\n'"
      ]
     },
     "execution_count": 121,
     "metadata": {},
     "output_type": "execute_result"
    }
   ],
   "source": [
    "classification_report(y_test, y_pred)"
   ]
  },
  {
   "cell_type": "code",
   "execution_count": 127,
   "metadata": {},
   "outputs": [
    {
     "name": "stderr",
     "output_type": "stream",
     "text": [
      "/mnt/c/Users/fredcorpuz06/miniconda3/envs/kaggle/lib/python3.6/site-packages/sklearn/metrics/classification.py:1135: UndefinedMetricWarning: F-score is ill-defined and being set to 0.0 in labels with no predicted samples.\n",
      "  'precision', 'predicted', average, warn_for)\n"
     ]
    },
    {
     "data": {
      "text/plain": [
       "0.3415676279778798"
      ]
     },
     "execution_count": 127,
     "metadata": {},
     "output_type": "execute_result"
    }
   ],
   "source": [
    "f1_score(y_test, y_pred, average='weighted')"
   ]
  }
 ],
 "metadata": {
  "kernelspec": {
   "display_name": "Python 3",
   "language": "python",
   "name": "python3"
  },
  "language_info": {
   "codemirror_mode": {
    "name": "ipython",
    "version": 3
   },
   "file_extension": ".py",
   "mimetype": "text/x-python",
   "name": "python",
   "nbconvert_exporter": "python",
   "pygments_lexer": "ipython3",
   "version": "3.6.4"
  }
 },
 "nbformat": 4,
 "nbformat_minor": 2
}
